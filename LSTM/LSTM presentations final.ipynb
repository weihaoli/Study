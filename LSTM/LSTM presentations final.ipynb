{
 "cells": [
  {
   "cell_type": "markdown",
   "metadata": {},
   "source": [
    "## LSTM : Step by Step guide and Algorithm"
   ]
  },
  {
   "cell_type": "markdown",
   "metadata": {},
   "source": [
    "### Activation function"
   ]
  },
  {
   "cell_type": "markdown",
   "metadata": {},
   "source": [
    "First, some utility functions"
   ]
  },
  {
   "cell_type": "code",
   "execution_count": 1,
   "metadata": {},
   "outputs": [],
   "source": [
    "import numpy as np\n",
    "from matplotlib import pyplot as plt\n",
    "%matplotlib inline\n",
    "\n",
    "\n",
    "np.random.seed(100)\n",
    "class dataset_class:\n",
    "    \"\"\"\n",
    "    dataset iterator \n",
    "    \"\"\"\n",
    "    def __init__(self,inputs,targets):\n",
    "        self.inputs = inputs\n",
    "        self.targets = targets\n",
    "        self.limit   = len(targets)\n",
    "        \n",
    "        \n",
    "    def __iter__(self): \n",
    "        self.counter = 0 \n",
    "        return self\n",
    "    \n",
    "    def __next__(self): \n",
    "  \n",
    "        # Store current value ofx \n",
    "        self.counter  \n",
    "  \n",
    "   \n",
    "        if self.counter >= self.limit: \n",
    "            raise StopIteration \n",
    "        x = self.counter\n",
    "        # Else increment and return old value \n",
    "        \n",
    "        self.counter  = self.counter + 1 \n",
    "        return self.inputs[x],self.targets[x] \n",
    "    \n",
    "    def __len__(self):\n",
    "        # Return the size of the dataset\n",
    "        return len(self.targets)\n",
    "\n",
    "    def __getitem__(self, index):\n",
    "        # Retrieve inputs and targets at the given index\n",
    "        X = self.inputs[index]\n",
    "        y = self.targets[index]\n",
    "\n",
    "        return X, y\n",
    "        \n",
    "\n",
    "\n",
    "def generate_data_set(sample_size = 100):\n",
    "    \"\"\"\n",
    "    Generate some none linear X- y paris, with time dependency\n",
    "    \n",
    "    \"\"\"\n",
    "    Xs = []\n",
    "    Ys = []\n",
    "    \n",
    "    def non_linear_y(x):\n",
    "        \"\"\"\n",
    "        Nonlinearity\n",
    "        \"\"\"\n",
    "        return ((np.sin(x[0]*2*3.14)*x[1] + x[2] ) *2)\n",
    " \n",
    "    for num in range(sample_size):\n",
    "        \"\"\"\n",
    "        Time dependency(copy data by *2 )\n",
    "        \"\"\"\n",
    "        copys=np.random.randint(1,5)\n",
    "        x = [np.random.uniform(0,1,(3,1)) for i in range (copys) ]*2\n",
    "        y = [non_linear_y(i) for i in x] \n",
    "        Xs.append(list(x))\n",
    "        Ys.append(list(y))\n",
    "        \n",
    "    return  dataset_class(Xs,Ys)\n",
    "\n",
    "\n",
    "\n",
    "training_set = generate_data_set(sample_size = 100)\n",
    "validation_set = generate_data_set(sample_size = 100)\n",
    "test_set = generate_data_set(sample_size = 20)"
   ]
  },
  {
   "cell_type": "markdown",
   "metadata": {},
   "source": [
    "## Activation functions: \n",
    "    1.Sigmoid/Tanh function for LSTM\n",
    "    2. Softmax output function softmaxt for classifier"
   ]
  },
  {
   "cell_type": "code",
   "execution_count": 2,
   "metadata": {},
   "outputs": [],
   "source": [
    "def sigmoid(x,derivative = False):\n",
    "    \"\"\"\n",
    "    sigmid\n",
    "    \"\"\"\n",
    "    if derivative:\n",
    "         # if derititive it is a function from y to dy\n",
    "        return x*(1 - x)\n",
    "    return np.exp(x) /(1 +np.exp(x) )\n",
    "\n",
    "def tanh(x,derivative = False):\n",
    "    \"\"\"\n",
    "    tanh function: (e^2x - 1)/(x^2x + 1)\n",
    "    \"\"\"\n",
    "    if derivative:\n",
    "        return 1 - x*x\n",
    "    return np.tanh(x)\n",
    "\n",
    "def softmax(x):\n",
    "    \"\"\"\n",
    "    softmax: for classification \n",
    "    \"\"\"\n",
    "    return np.exp(x)/np.sum( np.exp(x))\n",
    "    \n",
    " "
   ]
  },
  {
   "cell_type": "markdown",
   "metadata": {},
   "source": [
    "### LSTM "
   ]
  },
  {
   "cell_type": "markdown",
   "metadata": {},
   "source": [
    "####  Weight initilization\n",
    "    1. zero/constant initialization: not applicable, since all node will have same values in forward pass, thus same gradient in backpropagation\n",
    "    2. random initialization: two issue. W is too larget - (both vanishing or exploding gradient) W is not arget enough -vanishing gradient\n",
    "    3. Xavier initilization: generaize normal which sclae is propotional to number of inputs(Why?)\n",
    "    4. Initialize bias in forget gate to 1, so it wouldn't start from no-remembering."
   ]
  },
  {
   "cell_type": "code",
   "execution_count": 3,
   "metadata": {},
   "outputs": [],
   "source": [
    "\n",
    "\n",
    "def init_lstm(X_size,Y_size,H_size,Z_size ):\n",
    "    \"\"\"\n",
    "    initialize parameters for lstm\n",
    "    W_f , b_f   - forget gate\n",
    "    W_i,  b_i   - input gate\n",
    "    W_c,  b_c   - candidates\n",
    "    W_o,  b_o   - output gate \n",
    "    \n",
    "    \n",
    "    W_v,b_v   \n",
    "    \"\"\"\n",
    "    W_f = np.random.randn(H_size,Z_size)*(1/np.sqrt(Z_size))\n",
    "    b_f = np.ones((H_size,1))\n",
    "    \n",
    "    W_i = np.random.randn(H_size,Z_size)*(1/np.sqrt(Z_size))\n",
    "    b_i = np.zeros((H_size,1))\n",
    "    \n",
    "    W_c = np.random.randn(H_size,Z_size)*(1/np.sqrt(Z_size))\n",
    "    b_c = np.zeros((H_size,1))\n",
    "    \n",
    "    W_o =  np.random.randn(H_size,Z_size)*(1/np.sqrt(Z_size))\n",
    "    b_o =  np.zeros((H_size,1))\n",
    "    \n",
    "    \n",
    "    ## from hidden layer to output\n",
    "    \n",
    "    W_v = np.random.randn(Y_size,H_size)*(1/np.sqrt(H_size))\n",
    "    b_v = np.zeros((Y_size,1))\n",
    "    \n",
    "    return W_f,b_f,W_i,b_i,W_c,b_c,W_o,b_o,W_v,b_v"
   ]
  },
  {
   "cell_type": "markdown",
   "metadata": {},
   "source": [
    "### Forward Pass"
   ]
  },
  {
   "cell_type": "markdown",
   "metadata": {},
   "source": [
    "#### Inside network\n",
    "\\begin{aligned}f_{t}&=\\sigma  (W_{f}z_{t} +b_{f})\\\\i_{t}&=\\sigma (W_{i}z_{t} +b_{i})\\\\o_{t}&=\\sigma  (W_{o}z_{t} +b_{o})\\\\c_{t}&=f_{t}\\circ c_{t-1}+i_{t}\\circ tanh(W_{c}z_{t} +b_{c})\\\\h_{t}&=o_{t}\\circ tanh(c_{t})\\\\ \\hat{v_{t}}&=W_{v}h_{t} +b_{v}\\end{aligned}\n",
    "#### Output\n",
    "\\begin{align}\n",
    "\\hat{y_t} &= \\text{out_func}(v_t)\n",
    "\\end{align}"
   ]
  },
  {
   "cell_type": "code",
   "execution_count": 4,
   "metadata": {},
   "outputs": [],
   "source": [
    "# use g(gain) standas for C_bar for simplisity\n",
    "def forward_pass(params,x,h_prev,c_prev):\n",
    "    \"\"\"\n",
    "    forward porpergation - given input return output\n",
    "    \n",
    "    \"\"\"\n",
    "    W_f,b_f,W_i,b_i,W_g,b_g,W_o,b_o,W_v,b_v = params\n",
    " \n",
    "    z = np.concatenate([h_prev,x])  # z x 1 columns vector\n",
    "     \n",
    " \n",
    "    # forgate gate\n",
    "    f = sigmoid (W_f.dot(z) + b_f) # h x 1 columns vector\n",
    "    \n",
    "    \n",
    "    # input gate\n",
    "    i = sigmoid (W_i.dot(z) + b_i) # h x 1 columns vector\n",
    "    \n",
    "    # candidates\n",
    "    g = tanh(W_g.dot(z) + b_g)  # h x 1 columns vector\n",
    "    \n",
    "    # update c\n",
    "    c = c_prev*f + i*g         # h x 1 columns vector\n",
    "    #out put\n",
    "    o = sigmoid (W_o.dot(z) + b_o)# h x 1 columns vector\n",
    "    # update hidden state\n",
    "    h = o*tanh(c)   # h x 1 columns vector\n",
    "    \n",
    "    \n",
    "    ## Parts related to out put function - to be modified\n",
    "    v = W_v.dot(h) + b_v\n",
    "    ## calculate softmax\n",
    "    output = v#softmax(v)\n",
    "    return z,f,i,g,c,o,h,v,output\n",
    "        \n",
    "        "
   ]
  },
  {
   "cell_type": "markdown",
   "metadata": {},
   "source": [
    "### Backward pass\n",
    "\n",
    "### cross entropy\n",
    "\\begin{align}\n",
    "L_k &= -\\sum_{t=k}^T\\sum_j y_{t,j} log \\hat{y_{t,j}} \\\\\n",
    "L &= L_1 \\\\\n",
    "\\end{align}\n",
    "### Square error\n",
    "\\begin{align}\n",
    "L_k &= -\\sum_{t=k}^T\\sum_j \\frac{1}{2} (y_{t,j} - \\hat{y_{t,j}})^2 \\\\\n",
    "L &= L_1 \\\\\n",
    "\\end{align}\n",
    "### Derivitive from Lt to v (L t is not L k)\n",
    "\n",
    "### Both cross entropy and Square error\n",
    "\\begin{align}\n",
    "dv_t &= \\hat{y_t} - y_t \\\\\n",
    "\\end{align}\n",
    " \n",
    "### Now into the layer\n",
    "#### Through output layer\n",
    "\\begin{align}\n",
    "dh_t &= dh'_t + W_y^T \\cdot dv_t \\\\\n",
    "do_t &= dh_t * \\text{tanh}(C_t) \\\\\n",
    "dC_t &= dC'_t + dh_t * o_t * (1 - \\text{tanh}^2(C_t))\\\\\n",
    "\\end{align}\n",
    "#### Through output gate\n",
    "\\begin{align}\n",
    "do'_t &= o_t * (1 - o_t) * do_t \\\\\n",
    "\\end{align}\n",
    "\n",
    "#### Propagate to the same stage for other gates(From the path of C)\n",
    "\\begin{align}\n",
    "df_t &= C_{t-1} * dC_t \\\\\n",
    "df'_t &= f_t*(1-f_t)* df_t\\\\\n",
    "\\\\\n",
    "dg_t &= i_t * dC_t \\\\\n",
    "dg'_t &= (1 - g_t^2)* dg_t\\\\\n",
    "\\\\\n",
    "di_t &= g_t * dC_t \\\\\n",
    "di'_t &= i_t *(1 - i_t )* di_t\\\\\n",
    "\\end{align}.\n",
    "#### Now calculate weight gradientc\n",
    "\n",
    "\\begin{align}\n",
    "dW_v &= dv_t \\cdot h_t^T \\\\\n",
    "db_v &= dv_t \\\\\n",
    "\\\\\n",
    "dW_f &= df'_t \\cdot z^T \\\\\n",
    "db_f &= df'_t \\\\\n",
    "\\\\\n",
    "dW_i &= di'_t \\cdot z^T \\\\\n",
    "db_i &= di'_t \\\\\n",
    "\\\\\n",
    "dW_C &= d\\bar{C}'_t \\cdot z^T \\\\\n",
    "db_C &= d\\bar{C}'_t \\\\\n",
    "\\\\\n",
    "dW_o &= do'_t \\cdot z^T \\\\\n",
    "db_o &= do'_t \\\\\n",
    "\\\\\n",
    "\\end{align}\n",
    "\n",
    "\n",
    "\n",
    "#### Propagate to last C and last h , for next loop\n",
    "\\begin{align}\n",
    "dC'_t &= f_t * dC_t \\\\\n",
    "\\\\\n",
    "dz_t &= W_f^T \\cdot df'_t \\\\\n",
    "     &+ W_i^T \\cdot di'_t \\\\\n",
    "     &+ W_g^T \\cdot dg'_t \\\\\n",
    "     &+ W_o^T \\cdot do'_t \\\\\n",
    "\\\\\n",
    "[dh'_{t-1}, dx_t] &= dz_t \\\\\n",
    "\\end{align}"
   ]
  },
  {
   "cell_type": "code",
   "execution_count": 5,
   "metadata": {},
   "outputs": [],
   "source": [
    "\n",
    "\n",
    "\n",
    "def backward_pass(params,d_params,target ,z ,f,i ,g ,c ,o ,h ,v ,output, d_h_next,d_c_next,C_prev):\n",
    "    \"\"\"\n",
    "    backpropagation\n",
    "    \"\"\"\n",
    "    W_f,b_f,W_i,b_i,W_g,b_g,W_o,b_o,W_v,b_v  = params\n",
    "    d_W_f,d_b_f,d_W_i,d_b_i,d_W_g,d_b_g,d_W_o,d_b_o,d_W_v,d_b_v = d_params\n",
    "\n",
    "    ### Derivitive from Lt to v (L t is not L k)\n",
    "    ### Both cross entropy and Square error\n",
    "    \n",
    "    #d_v =np.copy( output)\n",
    "    #d_v[target.astype(bool)]-= 1\n",
    "    \n",
    "    \n",
    "    d_v  = output - target\n",
    "    d_W_v +=  (d_v)*(h.T)\n",
    "    d_b_v += d_v\n",
    "\n",
    "    ##### Through output gate\n",
    "    d_h  =W_v.T.dot(d_v) \n",
    "    d_h += d_h_next#(dL_t/dh_t + dL_t+1 /dh_t )\n",
    "    d_o = d_h * tanh(c)\n",
    "    d_c = np.copy(d_c_next)\n",
    "    d_c += d_h * o*tanh(tanh(c),True)\n",
    "    ##Through output gate \n",
    "    d_o = d_o* sigmoid(o,True)\n",
    "    #### Propagate to the same stage for other gates(From the path of C)\n",
    "    d_f = C_prev*d_c\n",
    "    d_f = d_f*sigmoid(f,True)\n",
    "    d_i = d_c*g\n",
    "    d_i = d_i*sigmoid(i,True)\n",
    "    d_g = d_c*i\n",
    "    d_g *= tanh(g,True)\n",
    "    \n",
    "    \n",
    "    #### Now calculate weight gradientc\n",
    "    d_W_o  += d_o*(z.T)  \n",
    "    d_b_o  += d_o\n",
    " \n",
    "    d_W_g += d_g *(z.T)\n",
    "    d_b_g += d_g \n",
    " \n",
    "    d_W_i += d_i *z.T\n",
    "    d_b_i += d_i\n",
    "    \n",
    "    d_W_f += d_f *z.T\n",
    "    d_b_f += d_f\n",
    "\n",
    "\n",
    "    #### Propagate to last C and last h , for next loop\n",
    "    d_z = W_f.T.dot(d_f) + W_i.T.dot(d_i) + W_g.T.dot(d_g) + W_o.T.dot(d_o)\n",
    "    d_h_prev = d_z[:len(d_h_next)]\n",
    "    d_c_prev = f*d_c\n",
    "\n",
    "    return d_h_prev,d_c_prev"
   ]
  },
  {
   "cell_type": "markdown",
   "metadata": {},
   "source": [
    "## Training Loop:\n",
    "### Initialize parameters\n",
    "##### For each sample\n",
    "    \n",
    "    step 1: \n",
    "    For t in 1: T\n",
    "         Take X with forward function to calculate the target values and save states in each step\n",
    "    \n",
    "    step 2: \n",
    "    For t in T:1\n",
    "        Accumulate gradients for paramters using backward function\n",
    "    \n",
    "    step 3: \n",
    "        Update weights with accumulate gradients\n",
    "        clear cradients for this sample\n",
    "    Finish this sample, go to next sample"
   ]
  },
  {
   "cell_type": "code",
   "execution_count": 6,
   "metadata": {},
   "outputs": [],
   "source": [
    "\n",
    "def forward_backward(inputs,targets,params,h_prev,c_prev):\n",
    "    x_s,z_s,f_s,i_s = {},{},{},{}\n",
    "    g_s,c_s,o_s,h_s = {},{},{},{}\n",
    "    v_s,y_s         = {},{} \n",
    "\n",
    "    h_s[-1],c_s[-1] = h_prev,c_prev\n",
    "\n",
    "    loss = 0\n",
    "    for t in range(len(inputs)):\n",
    "        x_s[t] = inputs[t]\n",
    "        z_s[t],f_s[t],i_s[t] ,g_s[t],c_s[t],o_s[t],h_s[t],v_s[t],y_s[t] = \\\n",
    "        forward_pass(params,x_s[t],h_s[t-1],c_s[t-1])\n",
    "        \n",
    "        #-np.mean(targets[t] *(np.log(y_s[t]+ 1e-12 ) ) )\n",
    "        loss +=     ((targets[t] - y_s[t])**2)[0][0]\n",
    "\n",
    "    d_params = ([np.zeros(param.shape) for param in params])\n",
    "    d_h_next,d_c_next = np.zeros(h_prev.shape),np.zeros(c_prev.shape)\n",
    "\n",
    "    for t in reversed(range(len(inputs))):\n",
    "\n",
    "        target = targets[t]\n",
    "        d_h_next,d_c_next  =  backward_pass(params,d_params,target = target ,z = z_s[t] ,f = f_s[t],\\\n",
    "                      i = i_s[t] ,g = g_s[t] ,c = c_s[t] ,o = o_s[t] ,h = h_s[t] ,v = v_s[t] ,\\\n",
    "                      output = y_s[t], d_h_next = d_h_next,d_c_next = d_c_next,C_prev = c_s[t-1])\n",
    "        \n",
    "    return loss, d_params,h_s[len(h_s) - 2], c_s[len(c_s) - 2]"
   ]
  },
  {
   "cell_type": "markdown",
   "metadata": {},
   "source": [
    "### Update parameters\n",
    "    1. There are numerous ways to update parameters, gradient descend is teh simplest one. \n",
    "    2. Momemtum: instead of using gradient on current steps, we leverage a part from last step. This will help move away from local minimum\n",
    "    3. RMSprop: instead of using a constant learning rate, we adjust it by the moving avarage of gradient's norm."
   ]
  },
  {
   "cell_type": "code",
   "execution_count": 7,
   "metadata": {},
   "outputs": [],
   "source": [
    "def update_params(params,d_params,learning_rate = 1e-3):\n",
    " \n",
    "    for param, grad in zip(params, d_params):\n",
    "        param -= learning_rate  * grad\n",
    "       \n",
    "    return params\n",
    "    "
   ]
  },
  {
   "cell_type": "markdown",
   "metadata": {},
   "source": [
    "### Clip gradient from exploding"
   ]
  },
  {
   "cell_type": "code",
   "execution_count": 8,
   "metadata": {},
   "outputs": [],
   "source": [
    "\n",
    "def clip_gradient(d_params):\n",
    "    for dp in d_params:\n",
    "        np.clip(dp, -1, 1, out=dp)\n",
    "\n",
    "def predict(inputs,targets,params,h_prev,c_prev):\n",
    "    x_s,z_s,f_s,i_s = {},{},{},{}\n",
    "    g_s,c_s,o_s,h_s = {},{},{},{}\n",
    "    v_s,y_s         = {},{} \n",
    "\n",
    "    h_s[-1],c_s[-1] = h_prev,c_prev\n",
    "\n",
    "    loss = 0\n",
    "    for t in range(len(inputs)):\n",
    "        x_s[t] = inputs[t]\n",
    "        z_s[t],f_s[t],i_s[t] ,g_s[t],c_s[t],o_s[t],h_s[t],v_s[t],y_s[t] = \\\n",
    "        forward_pass(params,x_s[t],h_s[t-1],c_s[t-1])\n",
    "        loss +=    ((targets[t] - y_s[t])**2)[0][0]\n",
    "    return  loss ,y_s\n",
    " "
   ]
  },
  {
   "cell_type": "code",
   "execution_count": 9,
   "metadata": {
    "scrolled": true
   },
   "outputs": [],
   "source": [
    "num_epochs = 500\n",
    "\n",
    "X_size,Y_size,H_size = 3,1,50\n",
    "Z_size = X_size + H_size\n",
    "\n",
    "params = init_lstm(X_size,Y_size,H_size,Z_size)\n",
    "\n",
    "training_losses = []\n",
    "validation_losses = []\n",
    "for epoch in range(num_epochs):\n",
    "    training_loss = 0 \n",
    "    validation_loss = 0\n",
    "    for train_X, train_y in training_set:\n",
    "        h_prev,c_prev = np.zeros((H_size,1)) , np.zeros((H_size,1))\n",
    "        inputs =  train_X\n",
    "        targets = train_y\n",
    "        \n",
    "        loss, d_params,h_prev,c_prev = forward_backward(inputs,targets,params,h_prev,c_prev)\n",
    "        clip_gradient(d_params )\n",
    "        \n",
    "        update_params(params,d_params,learning_rate = 1e-3)\n",
    " \n",
    "        training_loss += loss\n",
    "    for validate_X,validate_y in validation_set:\n",
    "        h_prev,c_prev = np.zeros((H_size,1)) , np.zeros((H_size,1))\n",
    "        inputs =  train_X\n",
    "        targets = train_y\n",
    "        loss,_ = predict(inputs,targets,params,h_prev,c_prev)\n",
    "         \n",
    "        validation_loss += loss\n",
    "    \n",
    "    \n",
    "    training_losses.append(training_loss/len(training_set))\n",
    "    validation_losses.append(validation_loss/len(validation_set))"
   ]
  },
  {
   "cell_type": "code",
   "execution_count": 10,
   "metadata": {},
   "outputs": [
    {
     "data": {
      "text/plain": [
       "[<matplotlib.lines.Line2D at 0x114f6a56278>]"
      ]
     },
     "execution_count": 10,
     "metadata": {},
     "output_type": "execute_result"
    },
    {
     "data": {
      "image/png": "[encoded data removed]",
      "text/plain": [
       "<matplotlib.figure.Figure at 0x114f7adab00>"
      ]
     },
     "metadata": {
      "needs_background": "light"
     },
     "output_type": "display_data"
    }
   ],
   "source": [
    "plt.plot(training_losses)\n",
    "plt.plot(validation_losses)"
   ]
  },
  {
   "cell_type": "code",
   "execution_count": 11,
   "metadata": {},
   "outputs": [
    {
     "data": {
      "text/plain": [
       "1.4060258537199346"
      ]
     },
     "execution_count": 11,
     "metadata": {},
     "output_type": "execute_result"
    }
   ],
   "source": [
    "test_loss = 0 \n",
    "for test_X,test_y in test_set:\n",
    "    h_prev,c_prev = np.zeros((H_size,1)) , np.zeros((H_size,1))\n",
    "    inputs =  test_X\n",
    "    targets = test_y\n",
    "    loss,y= predict(inputs,targets,params,h_prev,c_prev)\n",
    "\n",
    "    test_loss += loss\n",
    "test_loss/len( test_set)"
   ]
  },
  {
   "cell_type": "code",
   "execution_count": 12,
   "metadata": {},
   "outputs": [
    {
     "data": {
      "text/plain": [
       "[<matplotlib.lines.Line2D at 0x114f7aba400>]"
      ]
     },
     "execution_count": 12,
     "metadata": {},
     "output_type": "execute_result"
    },
    {
     "data": {
      "image/png": "[encoded data removed]",
      "text/plain": [
       "<matplotlib.figure.Figure at 0x114f7aba2e8>"
      ]
     },
     "metadata": {
      "needs_background": "light"
     },
     "output_type": "display_data"
    }
   ],
   "source": [
    "plt.plot([x[0] for x in targets])\n",
    "plt.plot([v[0][0] for i,v in y.items()])"
   ]
  }
 ],
 "metadata": {
  "kernelspec": {
   "display_name": "Python 3",
   "language": "python",
   "name": "python3"
  },
  "language_info": {
   "codemirror_mode": {
    "name": "ipython",
    "version": 3
   },
   "file_extension": ".py",
   "mimetype": "text/x-python",
   "name": "python",
   "nbconvert_exporter": "python",
   "pygments_lexer": "ipython3",
   "version": "3.6.10"
  }
 },
 "nbformat": 4,
 "nbformat_minor": 2
}
