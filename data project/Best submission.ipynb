{
 "cells": [
  {
   "cell_type": "code",
   "execution_count": 14,
   "metadata": {
    "scrolled": true
   },
   "outputs": [
    {
     "data": {
      "text/html": [
       "<script>\n",
       "code_show=true; \n",
       "function code_toggle() {\n",
       " if (code_show){\n",
       " $('div.input').hide();\n",
       " } else {\n",
       " $('div.input').show();\n",
       " }\n",
       " code_show = !code_show\n",
       "} \n",
       "$( document ).ready(code_toggle);\n",
       "</script>\n",
       " <a href=\"javascript:code_toggle()\">expand</a>."
      ],
      "text/plain": [
       "<IPython.core.display.HTML object>"
      ]
     },
     "execution_count": 14,
     "metadata": {},
     "output_type": "execute_result"
    }
   ],
   "source": [
    "from IPython.display import HTML\n",
    "HTML('''<script>\n",
    "code_show=true; \n",
    "function code_toggle() {\n",
    " if (code_show){\n",
    " $('div.input').hide();\n",
    " } else {\n",
    " $('div.input').show();\n",
    " }\n",
    " code_show = !code_show\n",
    "} \n",
    "$( document ).ready(code_toggle);\n",
    "</script>\n",
    " <a href=\"javascript:code_toggle()\">expand</a>.''')"
   ]
  },
  {
   "cell_type": "code",
   "execution_count": 15,
   "metadata": {},
   "outputs": [],
   "source": [
    "import pandas as pd\n",
    "from matplotlib import pyplot as plt\n",
    "%matplotlib inline\n",
    "import seaborn as sns\n",
    "sns.set()\n",
    "pd.options.display.max_rows = 999\n",
    "import numpy as np\n",
    "import statsmodels.api as sm\n",
    "from patsy import dmatrices"
   ]
  },
  {
   "cell_type": "code",
   "execution_count": 16,
   "metadata": {},
   "outputs": [],
   "source": [
    "FeatureTrain = pd.read_csv('./data/dengue_features_train.csv',parse_dates = ['week_start_date'])\n",
    "TargetTrain = pd.read_csv('./data/dengue_labels_train.csv' )\n",
    "FeatureTest = pd.read_csv('./data/dengue_features_test.csv',parse_dates = ['week_start_date'])\n",
    "Answersheet = pd.read_csv('./data/submission_format.csv' )"
   ]
  },
  {
   "cell_type": "markdown",
   "metadata": {},
   "source": [
    "#                                  Presentation Data Exploration"
   ]
  },
  {
   "cell_type": "code",
   "execution_count": 17,
   "metadata": {},
   "outputs": [],
   "source": [
    "panel = TargetTrain.merge(FeatureTrain,on = ['city','year','weekofyear'] ,how = 'outer') \n",
    " \n",
    "kelvin = ['reanalysis_air_temp_k', 'reanalysis_avg_temp_k',   \\\n",
    "          'reanalysis_max_air_temp_k','reanalysis_min_air_temp_k','reanalysis_dew_point_temp_k']\n",
    "panel.loc[:,kelvin] = panel.loc[:,kelvin]-273.15# kelvin to C\n",
    "FeatureTest.loc[:,kelvin] =FeatureTest.loc[:,kelvin]-273.15# kelvin to C\n",
    "panel.columns\n",
    "timeid = ['year', 'weekofyear']\n",
    "green = ['ndvi_ne', 'ndvi_nw', 'ndvi_se', 'ndvi_sw']\n",
    "precipitation  =['precipitation_amt_mm','reanalysis_sat_precip_amt_mm','station_precip_mm','reanalysis_precip_amt_kg_per_m2',]\n",
    "avg_temp = ['reanalysis_air_temp_k', 'reanalysis_avg_temp_k',  'station_avg_temp_c' ]\n",
    "min_temp = ['station_min_temp_c','reanalysis_min_air_temp_k']\n",
    "max_temp = ['station_max_temp_c','reanalysis_max_air_temp_k']\n",
    "dtr =  ['reanalysis_tdtr_k', 'station_diur_temp_rng_c']\n",
    "humid = ['reanalysis_dew_point_temp_k','reanalysis_specific_humidity_g_per_kg', 'reanalysis_relative_humidity_percent']\n",
    "selected = humid + dtr + max_temp +min_temp +avg_temp +precipitation +timeid+green + ['city','total_cases','week_start_date']\n",
    "features_selected= humid + dtr + max_temp +min_temp +avg_temp +precipitation +timeid+green  \n",
    "panel = panel.loc[:,selected]\n",
    "\n",
    " \n",
    " \n"
   ]
  },
  {
   "cell_type": "code",
   "execution_count": 18,
   "metadata": {},
   "outputs": [],
   "source": [
    " \n",
    "def get_data_panel(panel,city_name):\n",
    "    panel_train =  panel.loc[panel.city == city_name].interpolate()  .set_index('week_start_date').copy().drop(['city'],axis = 1).copy()\n",
    "    \n",
    "    panel_test = FeatureTest.loc[FeatureTest.city == city_name].interpolate().set_index('week_start_date').copy().drop('city',axis = 1)\n",
    "    panel_test['total_cases'] = np.nan \n",
    "    train_len = len(panel_test['total_cases'])\n",
    "    panel = pd.concat([panel_train,panel_test],sort = False)\n",
    "    \n",
    "    \n",
    "    panel['green_s']  = panel.loc[:,green[:2]].mean(1)\n",
    "    panel['green_n']  = panel.loc[:,green[2:]].mean(1) \n",
    "    panel['green']  = panel.loc[:,green ].mean(1) \n",
    "\n",
    "    panel  = panel \n",
    "    return panel,train_len\n",
    "\n",
    "panel_sj,len_sj = get_data_panel(panel,'sj')\n",
    "panel_iq,len_iq = get_data_panel(panel,'iq')\n",
    "\n",
    "def min_max(data):\n",
    "     \n",
    "    return (data - data.min())/(data .max()- data.min())\n",
    "\n",
    "\n",
    "\n",
    "from sklearn.ensemble import RandomForestRegressor,RandomForestClassifier\n",
    "\n",
    "drops = ['reanalysis_specific_humidity_g_per_kg']  + green +\\\n",
    "['reanalysis_sat_precip_amt_mm','reanalysis_avg_temp_k','year','weekofyear','total_cases'] \n",
    "\n",
    "def append_shift(left,right,selected,shift,smooth =52):\n",
    "    new_names = []\n",
    "    right = right.copy().apply(lambda x : x.clip(x.quantile(0.05),x.quantile(0.95)),axis = 0)\n",
    "    for name in selected:\n",
    "        new_name = name + '_shift_' +str(shift)+'_smooth_' + str(smooth)\n",
    "        new_names.append(new_name)\n",
    " \n",
    "        left[new_name] = right.rolling(smooth     ).mean().shift(shift).loc[:,name ]\n",
    "    return left\n",
    "\n",
    "def append_diff(left,right,selected,diff,smooth =52):\n",
    "    new_names = []\n",
    "    right = right.copy().apply(lambda x : x.clip(x.quantile(0.05),x.quantile(0.95)),axis = 0)\n",
    "    for name in selected:\n",
    "        new_name = name + '_diff_' +str(diff)+'_smooth_' + str(smooth)\n",
    "        new_names.append(new_name)\n",
    " \n",
    "        left[new_name] = right.rolling(smooth   ).mean().diff(diff).loc[:,name ]\n",
    "    return left\n",
    " \n",
    "def de_season_tri(series):\n",
    "    \n",
    "    target = series.name\n",
    "    series = pd.DataFrame(series.copy())\n",
    "    series[\"season_sin\"] = np.sin(series.index.weekofyear/53*6.2831)\n",
    "    series[\"season_cos\"] = np.cos(series.index.weekofyear/53*6.2831)\n",
    "\n",
    "\n",
    "    X_out = series.drop(target,axis = 1) \n",
    "    X_out  = sm.add_constant(X_out) \n",
    "\n",
    "\n",
    "\n",
    "\n",
    "    train_df = series.dropna()\n",
    "    train_y = train_df  .loc[:,target]\n",
    "    train_y =train_y.clip(train_y.quantile(0.05),train_y.quantile(0.95))\n",
    "    train_X = train_df  .drop(target,axis = 1)\n",
    "    train_X = sm.add_constant(train_X)\n",
    "    model = sm.OLS(train_y,train_X)\n",
    "    res = model.fit()\n",
    "    return  series.loc[:,target] .ravel()/res  .predict(X_out) .ravel() - 1\n",
    "\n",
    "\n",
    " \n",
    "\n",
    "\n",
    "\n",
    " \n",
    "\n",
    "panel_sj,len_sj = get_data_panel(panel,'sj')\n",
    " \n",
    "panel_iq,len_iq = get_data_panel(panel,'iq')\n",
    " "
   ]
  },
  {
   "cell_type": "markdown",
   "metadata": {},
   "source": [
    "## Random Forest - Approach 1"
   ]
  },
  {
   "cell_type": "code",
   "execution_count": 19,
   "metadata": {},
   "outputs": [
    {
     "name": "stderr",
     "output_type": "stream",
     "text": [
      "D:\\Anaconda3\\envs\\interview_env\\lib\\site-packages\\numpy\\core\\fromnumeric.py:2495: FutureWarning: Method .ptp is deprecated and will be removed in a future version. Use numpy.ptp instead.\n",
      "  return ptp(axis=axis, out=out, **kwargs)\n"
     ]
    }
   ],
   "source": [
    "panel_sj_selected  = panel_sj.loc[:,['total_cases']]\n",
    "panel_iq_selected  = panel_iq.loc[:,['total_cases']] \n",
    "np.random.seed(10)\n",
    "def data_process_random_forest(panel,panel_candidate ):\n",
    "    \n",
    "    \"\"\"\n",
    "    Make sure it is at least forward filled\n",
    "    \"\"\"\n",
    "    panel = append_shift(panel,panel_candidate,\\\n",
    "          panel_candidate.columns,0,52)\n",
    "    \n",
    "    panel = append_shift(panel,panel_candidate,\\\n",
    "          panel_candidate.columns,0,20)\n",
    "    \n",
    "    panel = append_diff(panel,panel_candidate,\\\n",
    "          panel_candidate.columns,52,20)\n",
    "    \n",
    "    \n",
    "    # de - seasons\n",
    "    de_seasons = panel_candidate.apply(de_season_tri,axis = 0)\n",
    "    new_names = [name +'_ds' for name in de_seasons.columns]\n",
    "    de_seasons.columns = new_names\n",
    "    \n",
    "    \n",
    "    panel = append_shift(panel,de_seasons,\\\n",
    "          de_seasons.columns,0,52)\n",
    "    \n",
    "    panel = append_shift(panel,de_seasons,\\\n",
    "          de_seasons.columns,0,10)\n",
    "    \n",
    "    panel = append_diff(panel,de_seasons,\\\n",
    "          de_seasons.columns,52,20)\n",
    " \n",
    "    return panel .fillna(method = 'ffill')\n",
    "\n",
    "panel_sj_selected =  data_process_random_forest(panel_sj_selected,panel_sj.drop(drops,axis = 1))\n",
    "panel_iq_selected =  data_process_random_forest(panel_iq_selected,panel_iq.drop(drops,axis = 1)) \n",
    "\n",
    "\n",
    "train_y_sj, train_X_sj =   panel_sj_selected  .iloc[: -len_sj].dropna().loc[:,'total_cases'],\\\n",
    "                            panel_sj_selected .iloc[: -len_sj] .dropna().drop('total_cases',axis = 1)  \n",
    " \n",
    "train_y_iq, train_X_iq =   panel_iq_selected .iloc[60: -len_iq].dropna() .loc[:,'total_cases'],\\\n",
    "                            panel_iq_selected.iloc[60: -len_iq] .dropna() .drop('total_cases',axis = 1)  \n",
    "                         \n",
    "\n",
    "test_X_sj = panel_sj_selected.drop('total_cases',axis = 1)  .iloc[-len_sj: ]\n",
    "test_X_iq = panel_iq_selected.drop('total_cases',axis = 1)  .iloc[-len_iq: ]\n",
    "\n",
    "\n",
    "\n",
    "mdl_sj = RandomForestRegressor(n_estimators=200,    max_features='auto',\n",
    "                                         max_depth=4, criterion='mae',   warm_start=True, \\\n",
    "                                )\n",
    "mdl_sj.fit( train_X_sj ,train_y_sj )\n",
    "mdl_iq = RandomForestRegressor(n_estimators=200, max_features='auto',\n",
    "                                         max_depth=4, criterion='mae',  warm_start=True)\n",
    "\n",
    "mdl_iq.fit(train_X_iq  ,train_y_iq )\n",
    "\n",
    "\n",
    "sj_predictions =  pd.Series(np.round(mdl_sj . predict( test_X_sj)).astype(int) ) \n",
    "iq_predictions =  pd.Series(np.round(mdl_iq .predict(test_X_iq )).astype(int) )\n",
    "\n",
    "\n",
    " \n",
    "\n"
   ]
  },
  {
   "cell_type": "code",
   "execution_count": 20,
   "metadata": {},
   "outputs": [
    {
     "data": {
      "text/plain": [
       "<matplotlib.axes._subplots.AxesSubplot at 0x2671b00db38>"
      ]
     },
     "execution_count": 20,
     "metadata": {},
     "output_type": "execute_result"
    },
    {
     "data": {
      "image/png": "[encoded data removed]",
      "text/plain": [
       "<matplotlib.figure.Figure at 0x2671af44278>"
      ]
     },
     "metadata": {},
     "output_type": "display_data"
    }
   ],
   "source": [
    "def submission( sj_predictions,iq_predictions):\n",
    "    sj_predictions =  pd.Series(np.round(sj_predictions  ).round().astype(int) )\n",
    "    iq_predictions =  pd.Series(np.round(iq_predictions )  .round().astype(int) )\n",
    "    submission = pd.read_csv(\"./data/submission_format.csv\", index_col=[0, 1, 2])\n",
    "    submission.total_cases =np.concatenate([sj_predictions, iq_predictions])\n",
    "   \n",
    "    submission.to_csv(\"./data/submission_rf.csv\")\n",
    "    return submission\n",
    "    \n",
    "submission(sj_predictions ,iq_predictions).plot()"
   ]
  },
  {
   "cell_type": "markdown",
   "metadata": {},
   "source": [
    "### XGBoost "
   ]
  },
  {
   "cell_type": "code",
   "execution_count": 8,
   "metadata": {},
   "outputs": [
    {
     "name": "stderr",
     "output_type": "stream",
     "text": [
      "D:\\Anaconda3\\envs\\interview_env\\lib\\site-packages\\xgboost\\core.py:587: FutureWarning: Series.base is deprecated and will be removed in a future version\n",
      "  if getattr(data, 'base', None) is not None and \\\n"
     ]
    }
   ],
   "source": [
    "from xgboost import XGBRegressor\n",
    " \n",
    "np.random.seed(10)\n",
    " \n",
    "mdl_sj = XGBRegressor(base_score=0.5, booster='gbtree', colsample_bylevel=1,\n",
    "             colsample_bynode=1, colsample_bytree=1, gamma=1,\n",
    "             importance_type='gain', learning_rate=0.02, max_delta_step=0,\n",
    "             max_depth=2, min_child_weight=2, missing=None,  \n",
    "             n_jobs=4, nthread=None, objective='reg:squarederror',\n",
    "             random_state=1, reg_alpha=0, reg_lambda=1, scale_pos_weight=1,\n",
    "             seed=None, silent=None, subsample=1, verbosity=1)\n",
    "\n",
    "\n",
    "mdl_sj.fit( train_X_sj ,train_y_sj.clip(0,300) )\n",
    "\n",
    "\n",
    "mdl_iq = XGBRegressor(base_score=0.5, booster='gbtree', colsample_bylevel=1,\n",
    "             colsample_bynode=1, colsample_bytree=1, gamma=1,\n",
    "             importance_type='gain', learning_rate=0.02, max_delta_step=0,\n",
    "             max_depth=2, min_child_weight=2, missing=None,  \n",
    "             n_jobs=4, nthread=None, objective='reg:squarederror',\n",
    "             random_state=1, reg_alpha=0, reg_lambda=1, scale_pos_weight=1,\n",
    "             seed=None, silent=None, subsample=1, verbosity=1)\n",
    "\n",
    "mdl_iq.fit(train_X_iq  ,train_y_iq.clip(0,40))\n",
    "\n",
    "\n",
    "sj_predictions =  pd.Series(np.round(mdl_sj . predict( test_X_sj)).astype(int) ) \n",
    "iq_predictions =  pd.Series(np.round(mdl_iq .predict(test_X_iq )).astype(int) ) \n",
    "\n",
    " \n",
    " "
   ]
  },
  {
   "cell_type": "code",
   "execution_count": 12,
   "metadata": {},
   "outputs": [
    {
     "data": {
      "text/plain": [
       "<matplotlib.axes._subplots.AxesSubplot at 0x2671afa6550>"
      ]
     },
     "execution_count": 12,
     "metadata": {},
     "output_type": "execute_result"
    },
    {
     "data": {
      "image/png": "[encoded data removed]",
      "text/plain": [
       "<matplotlib.figure.Figure at 0x2671a934da0>"
      ]
     },
     "metadata": {
      "needs_background": "light"
     },
     "output_type": "display_data"
    }
   ],
   "source": [
    "def submission( sj_predictions,iq_predictions):\n",
    "    sj_predictions =  pd.Series(np.round(sj_predictions  ).round().astype(int) )\n",
    "    iq_predictions =  pd.Series(np.round(iq_predictions )  .round().astype(int) )\n",
    "    submission = pd.read_csv(\"./data/submission_format.csv\", index_col=[0, 1, 2])\n",
    "    submission.total_cases =np.concatenate([sj_predictions, iq_predictions])\n",
    "   \n",
    "    submission.to_csv(\"./data/submission_xgb.csv\")\n",
    "    return submission\n",
    "    \n",
    "submission(sj_predictions ,iq_predictions).plot()"
   ]
  },
  {
   "cell_type": "code",
   "execution_count": 13,
   "metadata": {},
   "outputs": [],
   "source": [
    "xgb_pred = pd.read_csv(\"./data/submission_xgb.csv\",index_col = [0,1,2])\n",
    "rf_pred = pd.read_csv(\"./data/submission_rf.csv\",index_col = [0,1,2])\n",
    "ens_pred = np.round((xgb_pred+rf_pred)/2).astype(int)\n",
    "ens_pred.to_csv(\"./data/submission_esb.csv\")"
   ]
  }
 ],
 "metadata": {
  "kernelspec": {
   "display_name": "Python 3",
   "language": "python",
   "name": "python3"
  },
  "language_info": {
   "codemirror_mode": {
    "name": "ipython",
    "version": 3
   },
   "file_extension": ".py",
   "mimetype": "text/x-python",
   "name": "python",
   "nbconvert_exporter": "python",
   "pygments_lexer": "ipython3",
   "version": "3.6.10"
  }
 },
 "nbformat": 4,
 "nbformat_minor": 2
}
