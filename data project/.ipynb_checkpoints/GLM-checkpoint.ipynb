{
 "cells": [
  {
   "cell_type": "code",
   "execution_count": 1,
   "metadata": {},
   "outputs": [],
   "source": [
    "### "
   ]
  },
  {
   "cell_type": "code",
   "execution_count": 2,
   "metadata": {},
   "outputs": [],
   "source": [
    "import pandas as pd\n",
    "from matplotlib import pyplot as plt\n",
    "%matplotlib inline\n",
    "import seaborn as sns\n",
    "sns.set()\n",
    "pd.options.display.max_rows = 999\n",
    "import numpy as np\n",
    "import statsmodels.api as sm\n",
    "from patsy import dmatrices\n",
    "\n",
    "from xgboost import XGBRegressor\n"
   ]
  },
  {
   "cell_type": "code",
   "execution_count": 3,
   "metadata": {},
   "outputs": [],
   "source": [
    "FeatureTrain = pd.read_csv('./data/dengue_features_train.csv',parse_dates = ['week_start_date'])\n",
    "TargetTrain = pd.read_csv('./data/dengue_labels_train.csv' )\n",
    "FeatureTest = pd.read_csv('./data/dengue_features_test.csv',parse_dates = ['week_start_date'])\n",
    "Answersheet = pd.read_csv('./data/submission_format.csv' )"
   ]
  },
  {
   "cell_type": "markdown",
   "metadata": {},
   "source": [
    "### look at target first"
   ]
  },
  {
   "cell_type": "code",
   "execution_count": 4,
   "metadata": {},
   "outputs": [
    {
     "data": {
      "text/plain": [
       "'\\nThis is the difference between two measure\\n\\nhttps://journals.ametsoc.org/doi/pdf/10.1175/BAMS-D-14-00226.1\\n\\n\\n'"
      ]
     },
     "execution_count": 4,
     "metadata": {},
     "output_type": "execute_result"
    }
   ],
   "source": [
    "\"\"\"\n",
    "This is the difference between two measure\n",
    "\n",
    "https://journals.ametsoc.org/doi/pdf/10.1175/BAMS-D-14-00226.1\n",
    "\n",
    "\n",
    "\"\"\""
   ]
  },
  {
   "cell_type": "code",
   "execution_count": 5,
   "metadata": {},
   "outputs": [],
   "source": [
    "panel = TargetTrain.merge(FeatureTrain,on = ['city','year','weekofyear'] ,how = 'outer') \n",
    " \n",
    "kelvin = ['reanalysis_air_temp_k', 'reanalysis_avg_temp_k',   'reanalysis_max_air_temp_k','reanalysis_min_air_temp_k','reanalysis_dew_point_temp_k']\n",
    "panel.loc[:,kelvin] = panel.loc[:,kelvin]-273.15# kelvin to C\n",
    "FeatureTest.loc[:,kelvin] =FeatureTest.loc[:,kelvin]-273.15# kelvin to C\n",
    "panel.columns\n",
    "\n",
    "timeid = ['year', 'weekofyear']\n",
    "green = ['ndvi_ne', 'ndvi_nw', 'ndvi_se', 'ndvi_sw']\n",
    "precipitation  =['precipitation_amt_mm','reanalysis_sat_precip_amt_mm','station_precip_mm','reanalysis_precip_amt_kg_per_m2',]\n",
    " \n",
    "avg_temp = ['reanalysis_air_temp_k', 'reanalysis_avg_temp_k',  'station_avg_temp_c' ]\n",
    "   \n",
    "min_temp = ['station_min_temp_c','reanalysis_min_air_temp_k']\n",
    " \n",
    "max_temp = ['station_max_temp_c','reanalysis_max_air_temp_k']\n",
    " \n",
    "dtr =  ['reanalysis_tdtr_k', 'station_diur_temp_rng_c']\n",
    " \n",
    "\n",
    "humid = ['reanalysis_dew_point_temp_k','reanalysis_specific_humidity_g_per_kg', 'reanalysis_relative_humidity_percent']\n",
    " \n",
    "selected = humid + dtr + max_temp +min_temp +avg_temp +precipitation +timeid+green + ['city','total_cases','week_start_date']\n",
    "features_selected= humid + dtr + max_temp +min_temp +avg_temp +precipitation +timeid+green  \n",
    "# precipitation_amt_mm  & reanalysis_sat_precip_amt_mm are the same\n",
    " \n",
    "panel = panel.loc[:,selected]\n",
    " "
   ]
  },
  {
   "cell_type": "code",
   "execution_count": 6,
   "metadata": {},
   "outputs": [],
   "source": [
    "sj = panel.loc[panel.city == 'sj'].interpolate()  .set_index('week_start_date').copy().drop(['city'],axis = 1)\n",
    "iq = panel.loc[panel.city == 'iq']  .interpolate()  .set_index('week_start_date').copy().iloc[60:].drop(['city'],axis = 1)\n",
    " "
   ]
  },
  {
   "cell_type": "code",
   "execution_count": 7,
   "metadata": {},
   "outputs": [],
   "source": [
    "city_name = 'sj'\n",
    "\n",
    "sj_test = FeatureTest.loc[FeatureTest.city == city_name].interpolate().set_index('week_start_date').copy().drop('city',axis = 1)\n",
    "sj_test['total_cases'] = np.nan \n",
    "\n",
    "sj = pd.concat([sj,sj_test ],sort = False)\n",
    " \n",
    "train_len = len(sj_test['total_cases'])\n",
    "\n",
    " \n",
    "data_selected = sj.loc[:,['total_cases']] .copy() \n",
    "data_candidate = sj .copy().iloc[: ]\n",
    "data_candidate['green_n'] = data_candidate.loc[:,green[:2]].mean(1)\n",
    "data_candidate['green_s'] = data_candidate.loc[:,green[2:]].mean(1)"
   ]
  },
  {
   "cell_type": "code",
   "execution_count": 8,
   "metadata": {},
   "outputs": [
    {
     "data": {
      "text/plain": [
       "['precipitation_amt_mm',\n",
       " 'reanalysis_sat_precip_amt_mm',\n",
       " 'station_precip_mm',\n",
       " 'reanalysis_precip_amt_kg_per_m2']"
      ]
     },
     "execution_count": 8,
     "metadata": {},
     "output_type": "execute_result"
    }
   ],
   "source": [
    "\n",
    "def de_season_tri(data,target):\n",
    "    data = data.copy()\n",
    "    data[\"season_sin\"] = np.sin(data.index.weekofyear/53*6.2831)\n",
    "    data[\"season_cos\"] = np.cos(data.index.weekofyear/53*6.2831)\n",
    "    expr = \"\"\"  ~ \"\"\"\n",
    "    expr = target + expr\n",
    "    \n",
    "    for name in [\"season_sin\",\"season_cos\"]:\n",
    "        expr +=     name  + ' + '\n",
    "    expr = expr[:-2]\n",
    " \n",
    "    Y , X  = dmatrices(expr, data, return_type='dataframe')\n",
    "    if target == 'total_cases':\n",
    "        Y = Y.clip(0,50)\n",
    "    model = sm.OLS(Y,X)\n",
    "    results = model.fit()\n",
    "    \n",
    " \n",
    " \n",
    "    \n",
    "    return  data.loc[:,target] - results .predict(X)  ,results.params\n",
    "\n",
    "\n",
    "\n",
    "def normalize(df, how ):\n",
    "    if how == 'z':\n",
    "        return (df - df.mean())/(df.std())\n",
    "    if how == 'r':\n",
    "        return (df - df.min())/(df.max() - df.min())\n",
    "\n",
    "def seasonal_predict(data,params):\n",
    "    data = data.copy()\n",
    "    data[\"season_sin\"] = np.sin(data.index.weekofyear/53*6.2831)\n",
    "    data[\"season_cos\"] = np.cos(data.index.weekofyear/53*6.2831)\n",
    "    \n",
    "    expr = \"\"\"  ~ \"\"\"\n",
    "    expr = 'total_cases' + expr\n",
    "    \n",
    "    for name in [\"season_sin\",\"season_cos\"]:\n",
    "        expr +=     name  + ' + '\n",
    "    expr = expr[:-2]\n",
    "   \n",
    "    Y , X  = dmatrices(expr, data, return_type='dataframe')\n",
    "    \n",
    "    return  X.dot(params)\n",
    "# season _indicatores\n",
    "residuals,params = de_season_tri(data_candidate,'total_cases')\n",
    "data_selected['season_based'] = seasonal_predict(data_selected.fillna(0) ,params)\n",
    "\n",
    "def append_shift(left,right,selected,shift,smooth =52):\n",
    "    new_names = []\n",
    "    for name in selected:\n",
    "        new_name = name + '_shift_' +str(shift)+'_smooth_' + str(smooth)\n",
    "        new_names.append(new_name)\n",
    " \n",
    "        left[new_name] = right.rolling(smooth  ).mean().shift(shift).loc[:,name ]\n",
    "    return left\n",
    "\n",
    "def append_diff(left,right,selected,diff,smooth =52):\n",
    "    new_names = []\n",
    "    for name in selected:\n",
    "        new_name = name + '_diff_' +str(diff)+'_smooth_' + str(smooth)\n",
    "        new_names.append(new_name)\n",
    " \n",
    "        left[new_name] = right.rolling(smooth  ).mean().diff(diff).loc[:,name ]\n",
    "    return left\n",
    "\n",
    "def append_non_season(left,right,selected,shift,smooth = 52):\n",
    "    new_names = []\n",
    "    for name in selected:\n",
    "        new_name = name + '_de_season_' +str(shift)+'_smooth_' + str(smooth)\n",
    "        new_names.append(new_name)\n",
    " \n",
    "        val,_ = de_season_tri(right,name)\n",
    "        left[new_name]       = val.rolling(smooth   ).mean().shift(shift)\n",
    "    return left\n",
    "\n",
    "def append_product(left,right, selected,shift,smooth = 52):\n",
    "    new_name = selected[0] + \"_X_\" + selected[1]\n",
    "    left[new_name]       = right.loc[:,selected[0] ].multiply (right.loc[:,selected[1] ],axis = 0).rolling(smooth ).mean()\n",
    "    return left\n",
    " \n",
    "data_selected = append_shift(data_selected,data_candidate,\\\n",
    "      ['reanalysis_dew_point_temp_k', 'reanalysis_specific_humidity_g_per_kg',\n",
    "         'station_max_temp_c','station_min_temp_c', 'station_avg_temp_c'],2,20)\n",
    "\n",
    "data_selected = append_shift(data_selected,data_candidate,\\\n",
    "      ['precipitation_amt_mm'],2,100)\n",
    "\n",
    "\n",
    "data_selected =  append_shift(data_selected,data_candidate,\\\n",
    "      [ 'station_min_temp_c',],2,52)\n",
    "\n",
    "data_selected =  append_diff(data_selected,data_candidate,\\\n",
    "      [ 'reanalysis_relative_humidity_percent','station_min_temp_c'  ],52,20)\n",
    "\n",
    " \n",
    "#data_selected =  append_product(data_selected,data_candidate ,\\\n",
    "#      [  'reanalysis_relative_humidity_percent','station_min_temp_c' ],2,20)\n",
    " \n",
    "\n",
    "data_selected =  append_product(data_selected,data_candidate ,\\\n",
    "      [  'reanalysis_relative_humidity_percent','station_min_temp_c' ],0,20) \n",
    "\n",
    "data_selected =  append_product(data_selected,data_candidate ,\\\n",
    "      ['station_diur_temp_rng_c', 'reanalysis_relative_humidity_percent' ],0,20) \n",
    "\n",
    " \n",
    " \n",
    "['precipitation_amt_mm','reanalysis_sat_precip_amt_mm','station_precip_mm','reanalysis_precip_amt_kg_per_m2',] "
   ]
  },
  {
   "cell_type": "code",
   "execution_count": null,
   "metadata": {},
   "outputs": [],
   "source": []
  },
  {
   "cell_type": "code",
   "execution_count": 9,
   "metadata": {},
   "outputs": [
    {
     "data": {
      "text/plain": [
       "<matplotlib.axes._subplots.AxesSubplot at 0x26867c056d8>"
      ]
     },
     "execution_count": 9,
     "metadata": {},
     "output_type": "execute_result"
    },
    {
     "data": {
      "image/png": "[encoded data removed]",
      "text/plain": [
       "<matplotlib.figure.Figure at 0x26867c1d6d8>"
      ]
     },
     "metadata": {
      "needs_background": "light"
     },
     "output_type": "display_data"
    }
   ],
   "source": [
    "data_selected_corr = data_selected .corr().total_cases.drop([ 'total_cases'])\n",
    "data_selected_corr  .sort_values(ascending=False) .plot.barh( )"
   ]
  },
  {
   "cell_type": "code",
   "execution_count": 10,
   "metadata": {},
   "outputs": [],
   "source": [
    "\n",
    "\n",
    "\n",
    "data_temp = normalize( data_selected,'r')\n",
    "data_temp['total_cases'] =  data_selected.total_cases\n",
    "\n",
    "data_selected = data_temp.copy()\n",
    "\n",
    "\n",
    "\n",
    "\n",
    "from sklearn.model_selection import KFold\n",
    "data = data_selected.copy() .iloc[:-train_len ].dropna()\n",
    "data_test = data_selected.copy().iloc[-train_len: ].fillna(method = 'ffill') .fillna(method = 'bfill').replace(np.nan,0)\n",
    "kf = KFold(n_splits=4, random_state=None, shuffle=False)\n",
    "\n",
    "expr = \"\"\"total_cases ~   \"\"\"\n",
    "drops = ['total_cases','season_based' ]\n",
    "for name in data.drop(drops,axis = 1).columns:\n",
    "    expr +=    name + ' + '\n",
    "expr=  expr[:-2]\n",
    "\n",
    "maes = []\n",
    "models = []\n",
    "test_xs = []\n",
    "test_ys = []\n",
    "\n",
    "\n",
    "\n",
    "\n",
    "\n",
    "\n",
    "\n",
    "\n",
    "\n",
    "\n",
    "\n",
    "for train_index, test_index in kf.split(data):\n",
    "    \n",
    "    df_train = data.iloc[train_index,:]\n",
    "    df_test  = data.iloc[test_index,:]\n",
    "    \n",
    "    train_y,  train_X = dmatrices(expr, df_train, return_type='dataframe')\n",
    "   \n",
    "    test_y,  test_X = dmatrices(expr, df_test, return_type='dataframe')\n",
    "    \n",
    "    test_xs.append(test_X)\n",
    "    \n",
    "    test_ys.append(test_y)\n",
    "    \n",
    "    train_y = train_y.iloc[:,0] .clip(0,70) .dropna()\n",
    "    train_X = train_X.loc[train_y.index]\n",
    "    \"\"\"model\"\"\"\n",
    "    model = XGBRegressor(base_score=0.5, booster='gblinear', colsample_bylevel=1,\n",
    "             colsample_bynode=1, colsample_bytree=1, gamma=0,\n",
    "             importance_type='gain', learning_rate=0.04, max_delta_step=0,\n",
    "             max_depth=3, min_child_weight=1, missing=None, n_estimators=100,\n",
    "             n_jobs=1, nthread=None, objective='count:poisson', random_state=1,\n",
    "             reg_alpha=1, reg_lambda=1, scale_pos_weight=1, seed=None,\n",
    "             silent=None, subsample=1, verbosity=1)\n",
    "    \n",
    "    \n",
    "    model .fit(X=train_X, y=pd.DataFrame(train_y))\n",
    "    pred_res = pd.Series(model.predict(test_X)  ,index =  test_y .index)\n",
    " \n",
    "    pred_res = pd.Series(pred_res,index =df_test.index )\n",
    "    models.append(model)\n",
    "    maes .append(abs(test_y.values.ravel()- pred_res.values.ravel()).mean())\n",
    "    \n",
    " "
   ]
  },
  {
   "cell_type": "code",
   "execution_count": 11,
   "metadata": {
    "scrolled": false
   },
   "outputs": [
    {
     "data": {
      "text/plain": [
       "[<matplotlib.lines.Line2D at 0x26868474710>]"
      ]
     },
     "execution_count": 11,
     "metadata": {},
     "output_type": "execute_result"
    },
    {
     "data": {
      "image/png": "[encoded data removed]",
      "text/plain": [
       "<matplotlib.figure.Figure at 0x26867d0b550>"
      ]
     },
     "metadata": {
      "needs_background": "light"
     },
     "output_type": "display_data"
    }
   ],
   "source": [
    "ith =3\n",
    "plt.plot(  test_ys[ith] )\n",
    "plt.plot(pd.Series(models[ith].predict(test_xs[ith] ),index = test_ys[ith].index)   )\n",
    " \n",
    " \n",
    " "
   ]
  },
  {
   "cell_type": "code",
   "execution_count": 12,
   "metadata": {},
   "outputs": [
    {
     "data": {
      "text/plain": [
       "[34.00250267868407, 23.783573230487878, 11.946883096649316, 16.797950657514427]"
      ]
     },
     "execution_count": 12,
     "metadata": {},
     "output_type": "execute_result"
    }
   ],
   "source": [
    "maes"
   ]
  },
  {
   "cell_type": "code",
   "execution_count": 13,
   "metadata": {},
   "outputs": [
    {
     "data": {
      "text/plain": [
       "[34.00250267868407, 23.783573230487878, 11.946883096649316, 16.797950657514427]"
      ]
     },
     "execution_count": 13,
     "metadata": {},
     "output_type": "execute_result"
    }
   ],
   "source": [
    "maes"
   ]
  },
  {
   "cell_type": "code",
   "execution_count": 16,
   "metadata": {
    "scrolled": true
   },
   "outputs": [
    {
     "data": {
      "text/plain": [
       "'reanalysis_dew_point_temp_k'"
      ]
     },
     "execution_count": 16,
     "metadata": {},
     "output_type": "execute_result"
    },
    {
     "data": {
      "image/png": "[encoded data removed]",
      "text/plain": [
       "<matplotlib.figure.Figure at 0x2686853c2b0>"
      ]
     },
     "metadata": {
      "needs_background": "light"
     },
     "output_type": "display_data"
    }
   ],
   "source": [
    "ith = 0\n",
    "show = data_candidate .groupby(data_candidate.index.year).mean().iloc[:,ith]\n",
    "\n",
    "show = (show - show .min()).plot.bar()\n",
    "data_candidate.groupby(data_candidate.index.year).mean().iloc[:,ith].name"
   ]
  },
  {
   "cell_type": "code",
   "execution_count": 17,
   "metadata": {},
   "outputs": [],
   "source": [
    "df_total  = data \n",
    "    \n",
    "total_y,  total_X = dmatrices(expr, df_total, return_type='dataframe')\n",
    "model = XGBRegressor(   base_score=0.5, booster='gblinear', colsample_bylevel=1,\n",
    "             colsample_bynode=1, colsample_bytree=1, gamma=0,\n",
    "             importance_type='gain', learning_rate=0.04, max_delta_step=0,\n",
    "             max_depth=3, min_child_weight=1, missing=None, n_estimators=500,\n",
    "             n_jobs=1, nthread=None, objective='count:poisson', random_state=1,\n",
    "             reg_alpha=0.1, reg_lambda=1, scale_pos_weight=1, seed=None,\n",
    "             silent=None, subsample=1, verbosity=1 )\n",
    "model.fit( total_X ,total_y.iloc[:,[0]].clip(0,70))\n",
    "\n",
    "\n",
    "pd.Series(np.round(model.predict(total_X )).astype(int),index = total_y.index).\\\n",
    "to_csv(\"./data/0126_glm_train_\" + str(city_name) + \".csv\",header = False)"
   ]
  },
  {
   "cell_type": "code",
   "execution_count": 18,
   "metadata": {},
   "outputs": [],
   "source": [
    " \n",
    "submit_y,  submit_X = dmatrices(expr, data_test , return_type='dataframe')\n",
    "\n",
    "pd.Series(np.round(model.predict(submit_X)).astype(int),index = submit_y.index).\\\n",
    "to_csv(\"0126_glm_\" + str(city_name) + \".csv\",header = False)"
   ]
  },
  {
   "cell_type": "code",
   "execution_count": 20,
   "metadata": {},
   "outputs": [
    {
     "data": {
      "text/plain": [
       "['mean_fit_time',\n",
       " 'mean_score_time',\n",
       " 'mean_test_score',\n",
       " 'param_booster',\n",
       " 'param_learning_rate',\n",
       " 'param_n_estimators',\n",
       " 'param_objective',\n",
       " 'param_random_state',\n",
       " 'param_reg_alpha',\n",
       " 'params',\n",
       " 'rank_test_score',\n",
       " 'split0_test_score',\n",
       " 'split1_test_score',\n",
       " 'split2_test_score',\n",
       " 'split3_test_score',\n",
       " 'split4_test_score',\n",
       " 'std_fit_time',\n",
       " 'std_score_time',\n",
       " 'std_test_score']"
      ]
     },
     "execution_count": 20,
     "metadata": {},
     "output_type": "execute_result"
    }
   ],
   "source": [
    " \n",
    "from sklearn.model_selection import GridSearchCV\n",
    " \n",
    "parameters = {'booster': ['gblinear'],'random_state':[1] , 'learning_rate':[0.04,0.06],\\\n",
    "              'n_estimators' :[100,200,300,400,500] , 'objective' : [ 'count:poisson','reg:squarederror'] ,\\\n",
    "                               'reg_alpha' :[0.01,0.05,0.1,0,5,1,5,10]}\n",
    "model =  XGBRegressor()\n",
    "clf = GridSearchCV(model, parameters)\n",
    "clf.fit(total_X , total_y.iloc[:,[0]])\n",
    "\n",
    "sorted(clf.cv_results_.keys())\n",
    " "
   ]
  },
  {
   "cell_type": "code",
   "execution_count": 21,
   "metadata": {},
   "outputs": [
    {
     "data": {
      "text/plain": [
       "XGBRegressor(base_score=0.5, booster='gblinear', colsample_bylevel=1,\n",
       "             colsample_bynode=1, colsample_bytree=1, gamma=0,\n",
       "             importance_type='gain', learning_rate=0.04, max_delta_step=0,\n",
       "             max_depth=3, min_child_weight=1, missing=None, n_estimators=500,\n",
       "             n_jobs=1, nthread=None, objective='count:poisson', random_state=1,\n",
       "             reg_alpha=0.1, reg_lambda=1, scale_pos_weight=1, seed=None,\n",
       "             silent=None, subsample=1, verbosity=1)"
      ]
     },
     "execution_count": 21,
     "metadata": {},
     "output_type": "execute_result"
    }
   ],
   "source": [
    "clf.best_estimator_"
   ]
  },
  {
   "cell_type": "markdown",
   "metadata": {},
   "source": [
    "### Based model"
   ]
  }
 ],
 "metadata": {
  "kernelspec": {
   "display_name": "Python 3",
   "language": "python",
   "name": "python3"
  },
  "language_info": {
   "codemirror_mode": {
    "name": "ipython",
    "version": 3
   },
   "file_extension": ".py",
   "mimetype": "text/x-python",
   "name": "python",
   "nbconvert_exporter": "python",
   "pygments_lexer": "ipython3",
   "version": "3.6.10"
  }
 },
 "nbformat": 4,
 "nbformat_minor": 2
}
