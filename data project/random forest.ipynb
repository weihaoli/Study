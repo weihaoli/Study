{
 "cells": [
  {
   "cell_type": "code",
   "execution_count": 1,
   "metadata": {},
   "outputs": [],
   "source": [
    "import pandas as pd\n",
    "from matplotlib import pyplot as plt\n",
    "%matplotlib inline\n",
    "import seaborn as sns\n",
    "sns.set()\n",
    "pd.options.display.max_rows = 999\n",
    "import numpy as np\n",
    "import statsmodels.api as sm\n",
    "from patsy import dmatrices\n",
    "\n",
    "from sklearn.ensemble import RandomForestRegressor,RandomForestClassifier\n"
   ]
  },
  {
   "cell_type": "code",
   "execution_count": 2,
   "metadata": {},
   "outputs": [],
   "source": [
    "FeatureTrain = pd.read_csv('./data/dengue_features_train.csv',parse_dates = ['week_start_date'])\n",
    "TargetTrain = pd.read_csv('./data/dengue_labels_train.csv' )\n",
    "FeatureTest = pd.read_csv('./data/dengue_features_test.csv',parse_dates = ['week_start_date'])\n",
    "Answersheet = pd.read_csv('./data/submission_format.csv' )"
   ]
  },
  {
   "cell_type": "markdown",
   "metadata": {},
   "source": [
    "### look at target first"
   ]
  },
  {
   "cell_type": "code",
   "execution_count": 3,
   "metadata": {},
   "outputs": [
    {
     "data": {
      "text/plain": [
       "'\\nThis is the difference between two measure\\n\\nhttps://journals.ametsoc.org/doi/pdf/10.1175/BAMS-D-14-00226.1\\n\\n\\n'"
      ]
     },
     "execution_count": 3,
     "metadata": {},
     "output_type": "execute_result"
    }
   ],
   "source": [
    "\"\"\"\n",
    "This is the difference between two measure\n",
    "\n",
    "https://journals.ametsoc.org/doi/pdf/10.1175/BAMS-D-14-00226.1\n",
    "\n",
    "\n",
    "\"\"\""
   ]
  },
  {
   "cell_type": "code",
   "execution_count": 4,
   "metadata": {},
   "outputs": [],
   "source": [
    "panel = TargetTrain.merge(FeatureTrain,on = ['city','year','weekofyear'] ,how = 'outer') \n",
    " \n",
    "kelvin = ['reanalysis_air_temp_k', 'reanalysis_avg_temp_k',   'reanalysis_max_air_temp_k','reanalysis_min_air_temp_k','reanalysis_dew_point_temp_k']\n",
    "panel.loc[:,kelvin] = panel.loc[:,kelvin]-273.15# kelvin to C\n",
    "FeatureTest.loc[:,kelvin] =FeatureTest.loc[:,kelvin]-273.15# kelvin to C\n",
    "panel.columns\n",
    "\n",
    "timeid = ['year', 'weekofyear']\n",
    "green = ['ndvi_ne', 'ndvi_nw', 'ndvi_se', 'ndvi_sw']\n",
    "precipitation  =['precipitation_amt_mm','reanalysis_sat_precip_amt_mm','station_precip_mm','reanalysis_precip_amt_kg_per_m2',]\n",
    " \n",
    "avg_temp = ['reanalysis_air_temp_k', 'reanalysis_avg_temp_k',  'station_avg_temp_c' ]\n",
    "   \n",
    "min_temp = ['station_min_temp_c','reanalysis_min_air_temp_k']\n",
    " \n",
    "max_temp = ['station_max_temp_c','reanalysis_max_air_temp_k']\n",
    " \n",
    "dtr =  ['reanalysis_tdtr_k', 'station_diur_temp_rng_c']\n",
    " \n",
    "\n",
    "humid = ['reanalysis_dew_point_temp_k','reanalysis_specific_humidity_g_per_kg', 'reanalysis_relative_humidity_percent']\n",
    " \n",
    "selected = humid + dtr + max_temp +min_temp +avg_temp +precipitation +timeid+green + ['city','total_cases','week_start_date']\n",
    "features_selected= humid + dtr + max_temp +min_temp +avg_temp +precipitation +timeid+green  \n",
    "# precipitation_amt_mm  & reanalysis_sat_precip_amt_mm are the same\n",
    " \n",
    "panel = panel.loc[:,selected]\n",
    " "
   ]
  },
  {
   "cell_type": "code",
   "execution_count": 5,
   "metadata": {},
   "outputs": [
    {
     "data": {
      "text/plain": [
       "Index(['reanalysis_dew_point_temp_k', 'reanalysis_specific_humidity_g_per_kg',\n",
       "       'reanalysis_relative_humidity_percent', 'reanalysis_tdtr_k',\n",
       "       'station_diur_temp_rng_c', 'station_max_temp_c',\n",
       "       'reanalysis_max_air_temp_k', 'station_min_temp_c',\n",
       "       'reanalysis_min_air_temp_k', 'reanalysis_air_temp_k',\n",
       "       'reanalysis_avg_temp_k', 'station_avg_temp_c', 'precipitation_amt_mm',\n",
       "       'reanalysis_sat_precip_amt_mm', 'station_precip_mm',\n",
       "       'reanalysis_precip_amt_kg_per_m2', 'year', 'weekofyear', 'ndvi_ne',\n",
       "       'ndvi_nw', 'ndvi_se', 'ndvi_sw', 'city', 'total_cases',\n",
       "       'week_start_date'],\n",
       "      dtype='object')"
      ]
     },
     "execution_count": 5,
     "metadata": {},
     "output_type": "execute_result"
    }
   ],
   "source": [
    "panel.columns"
   ]
  },
  {
   "cell_type": "code",
   "execution_count": 6,
   "metadata": {},
   "outputs": [],
   "source": [
    "sj = panel.loc[panel.city == 'sj'].interpolate()  .set_index('week_start_date').copy().drop(['city'],axis = 1)\n",
    "iq = panel.loc[panel.city == 'iq']  .interpolate()  .set_index('week_start_date').copy().iloc[60:].drop(['city'],axis = 1)\n",
    " "
   ]
  },
  {
   "cell_type": "code",
   "execution_count": 7,
   "metadata": {},
   "outputs": [],
   "source": [
    "city_name = 'iq'\n",
    "\n",
    "iq_test = FeatureTest.loc[FeatureTest.city == city_name].interpolate().set_index('week_start_date').copy().drop('city',axis = 1)\n",
    "iq_test['total_cases'] = np.nan \n",
    "\n",
    "iq = pd.concat([iq,iq_test ],sort = False)\n",
    " \n",
    "train_len = len(iq_test['total_cases'])\n",
    "\n",
    " \n",
    "data_selected = iq.loc[:,['total_cases']] .copy() \n",
    "data_candidate = iq .copy().iloc[: ]\n",
    "data_candidate['green'] = data_candidate.loc[:,green].mean(1)\n",
    "#data_candidate['green_s'] = data_candidate.loc[:,green[2:]].mean(1)"
   ]
  },
  {
   "cell_type": "code",
   "execution_count": 8,
   "metadata": {},
   "outputs": [],
   "source": [
    "\n",
    "def de_season_tri(data,target):\n",
    "    data = data.copy()\n",
    "    data[\"season_sin\"] = np.sin(data.index.weekofyear/53*6.2831)\n",
    "    data[\"season_cos\"] = np.cos(data.index.weekofyear/53*6.2831)\n",
    "    expr = \"\"\"  ~ \"\"\"\n",
    "    expr = target + expr\n",
    "    \n",
    "    for name in [\"season_sin\",\"season_cos\"]:\n",
    "        expr +=     name  + ' + '\n",
    "    expr = expr[:-2]\n",
    " \n",
    "    Y , X  = dmatrices(expr, data, return_type='dataframe')\n",
    "    if target == 'total_cases':\n",
    "        Y = Y.clip(0,50)\n",
    "    model = sm.OLS(Y,X)\n",
    "    results = model.fit()\n",
    "    \n",
    " \n",
    " \n",
    "    \n",
    "    return  data.loc[:,target] - results .predict(X)  ,results.params\n",
    "\n",
    "def seasonal_predict(data,params):\n",
    "    data = data.copy()\n",
    "    data[\"season_sin\"] = np.sin(data.index.weekofyear/53*6.2831)\n",
    "    data[\"season_cos\"] = np.cos(data.index.weekofyear/53*6.2831)\n",
    "    \n",
    "    expr = \"\"\"  ~ \"\"\"\n",
    "    expr = 'total_cases' + expr\n",
    "    \n",
    "    for name in [\"season_sin\",\"season_cos\"]:\n",
    "        expr +=     name  + ' + '\n",
    "    expr = expr[:-2]\n",
    "   \n",
    "    Y , X  = dmatrices(expr, data, return_type='dataframe')\n",
    "    \n",
    "    return  X.dot(params)\n",
    "# season _indicatores\n",
    "residuals,params = de_season_tri(data_candidate,'total_cases')\n",
    "data_selected['season_based'] = seasonal_predict(data_selected.fillna(0) ,params)\n",
    "\n",
    "def append_shift(left,right,selected,shift,smooth =52):\n",
    "    new_names = []\n",
    "    for name in selected:\n",
    "        new_name = name + '_shift_' +str(shift)+'_smooth_' + str(smooth)\n",
    "        new_names.append(new_name)\n",
    " \n",
    "        left[new_name] = right.rolling(smooth  ).mean().shift(shift).loc[:,name ]\n",
    "    return left\n",
    "\n",
    "def append_diff(left,right,selected,diff,smooth =52):\n",
    "    new_names = []\n",
    "    for name in selected:\n",
    "        new_name = name + '_diff_' +str(diff)+'_smooth_' + str(smooth)\n",
    "        new_names.append(new_name)\n",
    " \n",
    "        left[new_name] = right.rolling(smooth  ).mean().diff(diff).loc[:,name ]\n",
    "    return left\n",
    "\n",
    "def append_non_season(left,right,selected,shift,smooth = 52):\n",
    "    new_names = []\n",
    "    for name in selected:\n",
    "        new_name = name + '_de_season_' +str(shift)+'_smooth_' + str(smooth)\n",
    "        new_names.append(new_name)\n",
    " \n",
    "        val,_ = de_season_tri(right,name)\n",
    "        left[new_name]       = val.rolling(smooth   ).mean().shift(shift)\n",
    "    return left\n",
    "\n",
    "def append_product(left,right, selected,shift,smooth = 52):\n",
    "    new_name = selected[0] + \"_X_\" + selected[1]\n",
    "    left[new_name]       = right.loc[:,selected[0] ].multiply (right.loc[:,selected[1] ],axis = 0).rolling(smooth ).mean()\n",
    "    return left\n",
    " \n",
    "data_selected = append_shift(data_selected,data_candidate,\\\n",
    "      ['reanalysis_dew_point_temp_k', 'reanalysis_specific_humidity_g_per_kg',\n",
    "         'station_max_temp_c','station_min_temp_c', 'station_avg_temp_c'],2,20)\n",
    "\n",
    "data_selected = append_shift(data_selected,data_candidate,\\\n",
    "      ['precipitation_amt_mm'],2,100)\n",
    "\n",
    "\n",
    "data_selected =  append_shift(data_selected,data_candidate,\\\n",
    "      [ 'station_min_temp_c',],2,52)\n",
    "\n",
    "data_selected =  append_diff(data_selected,data_candidate,\\\n",
    "      [ 'reanalysis_relative_humidity_percent','station_min_temp_c'  ],52,20)\n",
    "\n",
    " \n",
    "#data_selected =  append_product(data_selected,data_candidate ,\\\n",
    "#      [  'reanalysis_relative_humidity_percent','station_min_temp_c' ],2,20)\n",
    " \n",
    "\n",
    "data_selected =  append_product(data_selected,data_candidate ,\\\n",
    "      [  'reanalysis_relative_humidity_percent','station_min_temp_c' ],0,20) \n",
    "\n",
    "\n",
    "\n",
    "data_selected =  append_product(data_selected,data_candidate ,\\\n",
    "      ['reanalysis_tdtr_k', 'green' ],0,20) \n",
    "data_selected =  append_product(data_selected,data_candidate ,\\\n",
    "      ['green', 'green' ],0,10) \n",
    " \n",
    "#data_selected =  append_product(data_selected,data_candidate ,\\\n",
    "#      ['ndvi_ne', 'ndvi_ne' ],0,10) \n",
    "\n",
    "data_selected =  append_product(data_selected,data_candidate ,\\\n",
    "      ['reanalysis_tdtr_k', 'reanalysis_tdtr_k' ],0,20) \n",
    "\n",
    " \n",
    "\n",
    "\n",
    "data_selected =  append_product(data_selected,data_candidate ,\\\n",
    "      ['precipitation_amt_mm', 'reanalysis_precip_amt_kg_per_m2' ],2,10) \n",
    "\n",
    "\n",
    "data_selected =  append_product(data_selected,data_candidate ,\\\n",
    "      ['station_max_temp_c', 'station_max_temp_c' ],0,20) \n",
    "\n",
    "data_selected =  append_product(data_selected,data_candidate ,\\\n",
    "      ['station_max_temp_c', 'station_min_temp_c' ],0,20) \n",
    "\n",
    "data_selected =  append_product(data_selected,data_candidate ,\\\n",
    "      [  'reanalysis_specific_humidity_g_per_kg','station_diur_temp_rng_c' ],0,30) \n",
    "\n",
    " \n",
    "\n",
    "\n",
    "data_selected =  append_product(data_selected,data_candidate ,\\\n",
    "      [  'station_precip_mm','station_precip_mm' ],0,30) \n",
    "\n",
    "data_selected =  append_product(data_selected,data_candidate ,\\\n",
    "      [  'reanalysis_precip_amt_kg_per_m2','ndvi_sw' ],2,10) \n",
    "\n",
    "\n",
    "data_selected =  append_product(data_selected,data_candidate ,\\\n",
    "      [  'reanalysis_relative_humidity_percent','station_max_temp_c' ],0,10) \n",
    "\n",
    " "
   ]
  },
  {
   "cell_type": "code",
   "execution_count": 9,
   "metadata": {},
   "outputs": [
    {
     "data": {
      "text/plain": [
       "<matplotlib.axes._subplots.AxesSubplot at 0x1f29a6209b0>"
      ]
     },
     "execution_count": 9,
     "metadata": {},
     "output_type": "execute_result"
    },
    {
     "data": {
      "image/png": "[encoded data removed]",
      "text/plain": [
       "<matplotlib.figure.Figure at 0x1f29a643b38>"
      ]
     },
     "metadata": {
      "needs_background": "light"
     },
     "output_type": "display_data"
    }
   ],
   "source": [
    "data_selected_corr = data_selected .corr().total_cases.drop([ 'total_cases'])\n",
    "data_selected_corr  .sort_values(ascending=False) .plot.barh( )"
   ]
  },
  {
   "cell_type": "code",
   "execution_count": 10,
   "metadata": {},
   "outputs": [],
   "source": [
    "from sklearn.model_selection import KFold\n",
    "data = data_selected.copy() .iloc[:-train_len ].dropna()\n",
    "data_test = data_selected.copy().iloc[-train_len: ].fillna(method = 'ffill') .fillna(method = 'bfill').replace(np.nan,0)\n",
    "kf = KFold(n_splits=4, random_state=None, shuffle=False)\n",
    "\n",
    "expr = \"\"\"total_cases ~   -1 + \"\"\"\n",
    "drops = ['total_cases','season_based' ]\n",
    "for name in data.drop(drops,axis = 1).columns:\n",
    "    expr +=    name + ' + '\n",
    "expr=  expr[:-2]\n",
    "\n",
    "maes = []\n",
    "models = []\n",
    "test_xs = []\n",
    "test_ys = []\n",
    "pred_ys = []\n",
    "    \n",
    "for train_index, test_index in kf.split(data):\n",
    "    \n",
    "    df_train = data.iloc[train_index,:]\n",
    "    df_test  = data.iloc[test_index,:]\n",
    "    \n",
    "    train_y,  train_X = dmatrices(expr, df_train, return_type='dataframe')\n",
    "    test_y,  test_X = dmatrices(expr, df_test, return_type='dataframe')\n",
    "    \n",
    "    test_xs.append(test_X)\n",
    "    test_ys.append(test_y)\n",
    "    \n",
    "    model = RandomForestRegressor(n_estimators=400, max_depth=6,min_samples_split = 8,min_samples_leaf =32,\n",
    "                                             criterion='mae', warm_start=True)\n",
    "    train_y = (train_y.iloc[:,0] .clip(0,80).rolling(3,center = True).mean()) .dropna()\n",
    "    train_X = train_X.loc[train_y.index]\n",
    "    model.fit( train_X,train_y   )\n",
    "    pred_res = model.predict(test_X )\n",
    "    pred_res = pd.Series(pred_res,index =df_test.index )\n",
    "    pred_ys.append(pred_res)\n",
    "    models.append(model)\n",
    "    maes .append(abs(test_y.values.ravel()- pred_res.values.ravel()).mean())\n",
    "    \n",
    " "
   ]
  },
  {
   "cell_type": "code",
   "execution_count": 11,
   "metadata": {
    "scrolled": false
   },
   "outputs": [
    {
     "data": {
      "image/png": "[encoded data removed]",
      "text/plain": [
       "<matplotlib.figure.Figure at 0x1f29ad50e10>"
      ]
     },
     "metadata": {
      "needs_background": "light"
     },
     "output_type": "display_data"
    }
   ],
   "source": [
    "ith =1\n",
    "plt.plot(  test_ys[ith] )\n",
    "plt.plot(pd.Series(models[ith].predict(test_xs[ith] ),index = test_ys[ith].index)   )\n",
    " \n",
    "test = pd.concat(test_ys) \n",
    "validate =pd.DataFrame( pd.concat(pred_ys)) \n",
    "\n",
    "ensamble_samples = validate.merge(test,left_index= True,right_index = True )\n",
    "ensamble_samples.to_csv('./data/ensamble_rf_' +str(city_name) + '.csv')"
   ]
  },
  {
   "cell_type": "code",
   "execution_count": 12,
   "metadata": {},
   "outputs": [
    {
     "data": {
      "text/plain": [
       "6.40090701727008"
      ]
     },
     "execution_count": 12,
     "metadata": {},
     "output_type": "execute_result"
    }
   ],
   "source": [
    "np.mean(maes)"
   ]
  },
  {
   "cell_type": "code",
   "execution_count": 13,
   "metadata": {},
   "outputs": [],
   "source": [
    "m1  = pd.Series(models[0].feature_importances_,index= train_X.columns).sort_values().iloc[-60:]\n",
    "m2  = pd.Series(models[1].feature_importances_,index= train_X.columns).sort_values().iloc[-60:] \n",
    "m3  = pd.Series(models[2].feature_importances_,index= train_X.columns).sort_values().iloc[-60:]\n",
    "m4  = pd.Series(models[3].feature_importances_,index= train_X.columns).sort_values().iloc[-60:]"
   ]
  },
  {
   "cell_type": "code",
   "execution_count": 14,
   "metadata": {},
   "outputs": [
    {
     "data": {
      "text/plain": [
       "RandomForestRegressor(bootstrap=True, ccp_alpha=0.0, criterion='mae',\n",
       "                      max_depth=6, max_features='auto', max_leaf_nodes=None,\n",
       "                      max_samples=None, min_impurity_decrease=0.0,\n",
       "                      min_impurity_split=None, min_samples_leaf=32,\n",
       "                      min_samples_split=8, min_weight_fraction_leaf=0.0,\n",
       "                      n_estimators=400, n_jobs=None, oob_score=False,\n",
       "                      random_state=None, verbose=0, warm_start=True)"
      ]
     },
     "execution_count": 14,
     "metadata": {},
     "output_type": "execute_result"
    }
   ],
   "source": [
    "df_total  = data \n",
    "    \n",
    "total_y,  total_X = dmatrices(expr, df_total, return_type='dataframe')\n",
    "model = RandomForestRegressor(n_estimators=400, max_depth=6,min_samples_split = 8,min_samples_leaf =32,\n",
    "                                         criterion='mae', warm_start=True)\n",
    "model.fit( total_X ,total_y.iloc[:,0].clip(0,70))\n",
    "\n",
    "\n",
    " "
   ]
  },
  {
   "cell_type": "code",
   "execution_count": 15,
   "metadata": {},
   "outputs": [],
   "source": [
    " \n",
    "submit_y,  submit_X = dmatrices(expr, data_test , return_type='dataframe')\n",
    "\n",
    "pd.Series(np.round(model.predict(submit_X)).astype(int),index = submit_y.index).\\\n",
    "to_csv(\"./data/0127_rf_\" + str(city_name) + \".csv\",header = False)"
   ]
  },
  {
   "cell_type": "raw",
   "metadata": {},
   "source": [
    " \n",
    "from sklearn.model_selection import GridSearchCV\n",
    " \n",
    "parameters = {'n_estimators':[200, 400,600,800], 'max_depth':[2, 4,6,8],'min_samples_split' :\\\n",
    "[4,8,16,32],'min_samples_leaf' :[4,8,16,32] }\n",
    "model = RandomForestRegressor()\n",
    "clf = GridSearchCV(model, parameters)\n",
    "clf.fit(total_X , total_y.iloc[:,0])\n",
    "GridSearchCV(estimator=RandomForestRegressor(),\n",
    "             param_grid=parameters )\n",
    "sorted(clf.cv_results_.keys())\n",
    " "
   ]
  },
  {
   "cell_type": "raw",
   "metadata": {},
   "source": [
    "(bootstrap=True, ccp_alpha=0.0, criterion='mse',\n",
    "                      max_depth=6, max_features='auto', max_leaf_nodes=None,\n",
    "                      max_samples=None, min_impurity_decrease=0.0,\n",
    "                      min_impurity_split=None, min_samples_leaf=32,\n",
    "                      min_samples_split=8, min_weight_fraction_leaf=0.0,\n",
    "                      n_estimators=400, n_jobs=None, oob_score=False,\n",
    "                      random_state=None, verbose=0, warm_start=False)"
   ]
  },
  {
   "cell_type": "markdown",
   "metadata": {},
   "source": [
    "### Based model"
   ]
  }
 ],
 "metadata": {
  "kernelspec": {
   "display_name": "Python 3",
   "language": "python",
   "name": "python3"
  },
  "language_info": {
   "codemirror_mode": {
    "name": "ipython",
    "version": 3
   },
   "file_extension": ".py",
   "mimetype": "text/x-python",
   "name": "python",
   "nbconvert_exporter": "python",
   "pygments_lexer": "ipython3",
   "version": "3.6.10"
  }
 },
 "nbformat": 4,
 "nbformat_minor": 2
}
