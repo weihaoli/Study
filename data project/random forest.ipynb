{
 "cells": [
  {
   "cell_type": "code",
   "execution_count": 2,
   "metadata": {},
   "outputs": [],
   "source": [
    "import pandas as pd\n",
    "from matplotlib import pyplot as plt\n",
    "%matplotlib inline\n",
    "import seaborn as sns\n",
    "sns.set()\n",
    "pd.options.display.max_rows = 999\n",
    "import numpy as np\n",
    "import statsmodels.api as sm\n",
    "from patsy import dmatrices\n",
    "\n",
    "from sklearn.ensemble import RandomForestRegressor,RandomForestClassifier\n"
   ]
  },
  {
   "cell_type": "code",
   "execution_count": 3,
   "metadata": {},
   "outputs": [],
   "source": [
    "FeatureTrain = pd.read_csv('./data/dengue_features_train.csv',parse_dates = ['week_start_date'])\n",
    "TargetTrain = pd.read_csv('./data/dengue_labels_train.csv' )\n",
    "FeatureTest = pd.read_csv('./data/dengue_features_test.csv',parse_dates = ['week_start_date'])\n",
    "Answersheet = pd.read_csv('./data/submission_format.csv' )"
   ]
  },
  {
   "cell_type": "markdown",
   "metadata": {},
   "source": [
    "### look at target first"
   ]
  },
  {
   "cell_type": "code",
   "execution_count": 4,
   "metadata": {},
   "outputs": [
    {
     "data": {
      "text/plain": [
       "'\\nThis is the difference between two measure\\n\\nhttps://journals.ametsoc.org/doi/pdf/10.1175/BAMS-D-14-00226.1\\n\\n\\n'"
      ]
     },
     "execution_count": 4,
     "metadata": {},
     "output_type": "execute_result"
    }
   ],
   "source": [
    "\"\"\"\n",
    "This is the difference between two measure\n",
    "\n",
    "https://journals.ametsoc.org/doi/pdf/10.1175/BAMS-D-14-00226.1\n",
    "\n",
    "\n",
    "\"\"\""
   ]
  },
  {
   "cell_type": "code",
   "execution_count": 5,
   "metadata": {},
   "outputs": [],
   "source": [
    "panel = TargetTrain.merge(FeatureTrain,on = ['city','year','weekofyear'] ,how = 'outer') \n",
    " \n",
    "kelvin = ['reanalysis_air_temp_k', 'reanalysis_avg_temp_k',   'reanalysis_max_air_temp_k','reanalysis_min_air_temp_k','reanalysis_dew_point_temp_k']\n",
    "panel.loc[:,kelvin] = panel.loc[:,kelvin]-273.15# kelvin to C\n",
    "FeatureTest.loc[:,kelvin] =FeatureTest.loc[:,kelvin]-273.15# kelvin to C\n",
    "panel.columns\n",
    "\n",
    "timeid = ['year', 'weekofyear']\n",
    "green = ['ndvi_ne', 'ndvi_nw', 'ndvi_se', 'ndvi_sw']\n",
    "precipitation  =['precipitation_amt_mm','reanalysis_sat_precip_amt_mm','station_precip_mm','reanalysis_precip_amt_kg_per_m2',]\n",
    " \n",
    "avg_temp = ['reanalysis_air_temp_k', 'reanalysis_avg_temp_k',  'station_avg_temp_c' ]\n",
    "   \n",
    "min_temp = ['station_min_temp_c','reanalysis_min_air_temp_k']\n",
    " \n",
    "max_temp = ['station_max_temp_c','reanalysis_max_air_temp_k']\n",
    " \n",
    "dtr =  ['reanalysis_tdtr_k', 'station_diur_temp_rng_c']\n",
    " \n",
    "\n",
    "humid = ['reanalysis_dew_point_temp_k','reanalysis_specific_humidity_g_per_kg', 'reanalysis_relative_humidity_percent']\n",
    " \n",
    "selected = humid + dtr + max_temp +min_temp +avg_temp +precipitation +timeid+green + ['city','total_cases','week_start_date']\n",
    "features_selected= humid + dtr + max_temp +min_temp +avg_temp +precipitation +timeid+green  \n",
    "# precipitation_amt_mm  & reanalysis_sat_precip_amt_mm are the same\n",
    " \n",
    "panel = panel.loc[:,selected]\n",
    " "
   ]
  },
  {
   "cell_type": "code",
   "execution_count": 6,
   "metadata": {},
   "outputs": [],
   "source": [
    "city_name = 'sj'\n",
    "def get_data_panel(panel,city_name):\n",
    "    panel_train =  panel.loc[panel.city == city_name].interpolate()  .set_index('week_start_date').copy().drop(['city'],axis = 1).copy()\n",
    "    \n",
    "    panel_test = FeatureTest.loc[FeatureTest.city == city_name].interpolate().set_index('week_start_date').copy().drop('city',axis = 1)\n",
    "    panel_test['total_cases'] = np.nan \n",
    "    train_len = len(panel_test['total_cases'])\n",
    "    panel = pd.concat([panel_train,panel_test],sort = False)\n",
    "    \n",
    "    \n",
    "    panel['green_s']  = panel.loc[:,green[:2]].mean(1)\n",
    "    panel['green_n']  = panel.loc[:,green[2:]].mean(1) \n",
    "    panel['green']  = panel.loc[:,green ].mean(1) \n",
    "\n",
    "    panel  = panel \n",
    "    return panel,train_len\n",
    "\n",
    "panel_sj,len_sj = get_data_panel(panel,'sj')\n",
    "panel_iq,len_iq = get_data_panel(panel,'iq')\n",
    "\n",
    "\n"
   ]
  },
  {
   "cell_type": "code",
   "execution_count": 7,
   "metadata": {},
   "outputs": [],
   "source": [
    "from numpy import polyfit\n",
    "def get_season(panel):\n",
    "    degree = 3\n",
    " \n",
    "    Y = panel .clip(0, panel .quantile(0.8))\n",
    "    X = ( Y.index.weekofyear%52)\n",
    "\n",
    "    bases  = []\n",
    "    for i in reversed(range(degree+1)):\n",
    "        bases.append(X**i)\n",
    "    bases = pd.DataFrame(bases ).T\n",
    "    params = polyfit( Y.dropna().index.weekofyear%52,Y.dropna(),deg = degree)\n",
    "\n",
    "\n",
    "    return (bases .dot(params) *20) \n",
    "    \n",
    "  \n"
   ]
  },
  {
   "cell_type": "code",
   "execution_count": 27,
   "metadata": {},
   "outputs": [],
   "source": [
    "\n",
    "panel_sj_selected  = panel_sj.loc[:,['total_cases']]\n",
    "panel_iq_selected  = panel_iq.loc[:,['total_cases']] \n",
    "\n",
    "panel_sj_selected['season'] = get_season(panel_sj.loc[:,'total_cases'] ) .ravel()\n",
    "panel_sj_selected['season'] = panel_sj_selected['season'] .clip(0,panel_sj_selected['season'] .quantile(0.9 ))\n",
    "panel_iq_selected['season'] = get_season(panel_iq.loc[:,'total_cases'] ) .ravel()\n",
    "panel_iq_selected['season'] = panel_iq_selected['season'] .clip(0,panel_iq_selected['season'] .quantile(0.9 ))\n",
    " \n",
    "def append_shift(left,right,selected,shift,smooth =52):\n",
    "    new_names = []\n",
    "    right = right.copy().apply(lambda x : x.clip(0,x.quantile(0.9)),axis = 0)\n",
    "    for name in selected:\n",
    "        new_name = name + '_shift_' +str(shift)+'_smooth_' + str(smooth)\n",
    "        new_names.append(new_name)\n",
    " \n",
    "        left[new_name] = right.rolling(smooth    ).mean().shift(shift).loc[:,name ]\n",
    "    return left\n",
    "\n",
    "\n",
    "def append_product(left,right, selected,shift,smooth = 52):\n",
    "    new_name = selected[0] + \"_X_\" + selected[1]\n",
    "    left[new_name]       = right.loc[:,selected[0] ].multiply (right.loc[:,selected[1] ],axis = 0).rolling(smooth ).mean()\n",
    "    return left\n",
    " \n",
    "def data_process(panel,panel_candidate):\n",
    "    \n",
    "    \"\"\"\n",
    "    Make sure it is at least forward filled\n",
    "    \"\"\"\n",
    "    \n",
    "    panel = append_shift(panel,panel_candidate,\\\n",
    "          ['reanalysis_specific_humidity_g_per_kg',\n",
    "            'reanalysis_sat_precip_amt_mm',\\\n",
    "           'station_min_temp_c'  ],0,52)\n",
    "    \n",
    "    panel = append_shift(panel,panel_candidate,\\\n",
    "          ['reanalysis_specific_humidity_g_per_kg',\n",
    "            'reanalysis_sat_precip_amt_mm',\\\n",
    "           'station_min_temp_c','green_n' ],0,20)\n",
    " \n",
    "    \n",
    "    return panel \n",
    "\n",
    "\n",
    "panel_sj_selected =  data_process(panel_sj_selected,panel_sj)\n",
    "panel_iq_selected =  data_process(panel_iq_selected,panel_iq) "
   ]
  },
  {
   "cell_type": "markdown",
   "metadata": {},
   "source": [
    "## Cross validation"
   ]
  },
  {
   "cell_type": "code",
   "execution_count": 28,
   "metadata": {
    "scrolled": false
   },
   "outputs": [],
   "source": [
    " \n",
    "\n",
    "train_y_sj, train_X_sj =   panel_sj_selected .dropna().loc[:,'total_cases'] .iloc[: -len_sj],\\\n",
    "                            panel_sj_selected.dropna() .drop('total_cases',axis = 1) .iloc[: -len_sj]  \n",
    " \n",
    "train_y_iq, train_X_iq =   panel_iq_selected.dropna() .loc[:,'total_cases'] .iloc[60: -len_iq],\\\n",
    "                            panel_iq_selected.dropna() .drop('total_cases',axis = 1) .iloc[60: -len_iq]  \n",
    "                         \n",
    "\n",
    "test_X_sj = panel_sj_selected.drop('total_cases',axis = 1)  .iloc[-len_sj: ]\n",
    "test_X_iq = panel_iq_selected.drop('total_cases',axis = 1)  .iloc[-len_iq: ]"
   ]
  },
  {
   "cell_type": "code",
   "execution_count": null,
   "metadata": {},
   "outputs": [],
   "source": []
  },
  {
   "cell_type": "code",
   "execution_count": 31,
   "metadata": {
    "scrolled": false
   },
   "outputs": [],
   "source": [
    "mdl_sj = RandomForestRegressor(n_estimators=400,  \n",
    "                                         max_depth=6, criterion='mae',min_samples_split = 8,  warm_start=True,max_samples = 0.5,\\\n",
    "                               min_samples_leaf = 4)\n",
    "mdl_sj.fit( train_X_sj ,train_y_sj.clip(0,200) )\n",
    "mdl_iq = RandomForestRegressor(n_estimators=100, max_features='auto',\n",
    "                                         max_depth=6, criterion='mae', min_weight_fraction_leaf=0.1, warm_start=True)\n",
    "\n",
    "mdl_iq.fit(train_X_iq  ,train_y_iq.clip(0,40))\n",
    "\n",
    "\n",
    "sj_predictions =  pd.Series(np.round(mdl_sj . predict( test_X_sj)).astype(int) ) \n",
    "iq_predictions =  pd.Series(np.round(mdl_iq .predict(test_X_iq )).astype(int) ) \n",
    "    \n",
    " \n",
    "    \n",
    "submission = pd.read_csv(\"./data/submission_format.csv\", index_col=[0, 1, 2])\n",
    "submission.total_cases =np.concatenate([sj_predictions, iq_predictions])\n",
    " \n",
    "submission.to_csv(\"./data/submission_012800.csv\")"
   ]
  },
  {
   "cell_type": "code",
   "execution_count": 45,
   "metadata": {},
   "outputs": [
    {
     "data": {
      "text/plain": [
       "'reanalysis_sat_precip_amt_mm_shift_0_smooth_52'"
      ]
     },
     "execution_count": 45,
     "metadata": {},
     "output_type": "execute_result"
    }
   ],
   "source": [
    "test_X_sj.iloc[:,3].name"
   ]
  }
 ],
 "metadata": {
  "kernelspec": {
   "display_name": "Python 3",
   "language": "python",
   "name": "python3"
  },
  "language_info": {
   "codemirror_mode": {
    "name": "ipython",
    "version": 3
   },
   "file_extension": ".py",
   "mimetype": "text/x-python",
   "name": "python",
   "nbconvert_exporter": "python",
   "pygments_lexer": "ipython3",
   "version": "3.6.10"
  }
 },
 "nbformat": 4,
 "nbformat_minor": 2
}
