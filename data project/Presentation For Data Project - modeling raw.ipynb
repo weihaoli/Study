{
 "cells": [
  {
   "cell_type": "code",
   "execution_count": 1,
   "metadata": {},
   "outputs": [
    {
     "data": {
      "text/html": [
       "<script>\n",
       "code_show=true; \n",
       "function code_toggle() {\n",
       " if (code_show){\n",
       " $('div.input').hide();\n",
       " } else {\n",
       " $('div.input').show();\n",
       " }\n",
       " code_show = !code_show\n",
       "} \n",
       "$( document ).ready(code_toggle);\n",
       "</script>\n",
       " <a href=\"javascript:code_toggle()\">expand</a>."
      ],
      "text/plain": [
       "<IPython.core.display.HTML object>"
      ]
     },
     "execution_count": 1,
     "metadata": {},
     "output_type": "execute_result"
    }
   ],
   "source": [
    "from IPython.display import HTML\n",
    "HTML('''<script>\n",
    "code_show=true; \n",
    "function code_toggle() {\n",
    " if (code_show){\n",
    " $('div.input').hide();\n",
    " } else {\n",
    " $('div.input').show();\n",
    " }\n",
    " code_show = !code_show\n",
    "} \n",
    "$( document ).ready(code_toggle);\n",
    "</script>\n",
    " <a href=\"javascript:code_toggle()\">expand</a>.''')"
   ]
  },
  {
   "cell_type": "code",
   "execution_count": 2,
   "metadata": {},
   "outputs": [],
   "source": [
    "import pandas as pd\n",
    "from matplotlib import pyplot as plt\n",
    "%matplotlib inline\n",
    "import seaborn as sns\n",
    "sns.set()\n",
    "pd.options.display.max_rows = 999\n",
    "import numpy as np\n",
    "import statsmodels.api as sm\n",
    "from patsy import dmatrices"
   ]
  },
  {
   "cell_type": "code",
   "execution_count": 3,
   "metadata": {},
   "outputs": [],
   "source": [
    "FeatureTrain = pd.read_csv('./data/dengue_features_train.csv',parse_dates = ['week_start_date'])\n",
    "TargetTrain = pd.read_csv('./data/dengue_labels_train.csv' )\n",
    "FeatureTest = pd.read_csv('./data/dengue_features_test.csv',parse_dates = ['week_start_date'])\n",
    "Answersheet = pd.read_csv('./data/submission_format.csv' )"
   ]
  },
  {
   "cell_type": "markdown",
   "metadata": {},
   "source": [
    "#                                  Presentation Data Exploration"
   ]
  },
  {
   "cell_type": "code",
   "execution_count": 4,
   "metadata": {},
   "outputs": [],
   "source": [
    "panel = TargetTrain.merge(FeatureTrain,on = ['city','year','weekofyear'] ,how = 'outer') \n",
    " \n",
    "kelvin = ['reanalysis_air_temp_k', 'reanalysis_avg_temp_k',   \\\n",
    "          'reanalysis_max_air_temp_k','reanalysis_min_air_temp_k','reanalysis_dew_point_temp_k']\n",
    "panel.loc[:,kelvin] = panel.loc[:,kelvin]-273.15# kelvin to C\n",
    "FeatureTest.loc[:,kelvin] =FeatureTest.loc[:,kelvin]-273.15# kelvin to C\n",
    "panel.columns\n",
    "timeid = ['year', 'weekofyear']\n",
    "green = ['ndvi_ne', 'ndvi_nw', 'ndvi_se', 'ndvi_sw']\n",
    "precipitation  =['precipitation_amt_mm','reanalysis_sat_precip_amt_mm','station_precip_mm','reanalysis_precip_amt_kg_per_m2',]\n",
    "avg_temp = ['reanalysis_air_temp_k', 'reanalysis_avg_temp_k',  'station_avg_temp_c' ]\n",
    "min_temp = ['station_min_temp_c','reanalysis_min_air_temp_k']\n",
    "max_temp = ['station_max_temp_c','reanalysis_max_air_temp_k']\n",
    "dtr =  ['reanalysis_tdtr_k', 'station_diur_temp_rng_c']\n",
    "humid = ['reanalysis_dew_point_temp_k','reanalysis_specific_humidity_g_per_kg', 'reanalysis_relative_humidity_percent']\n",
    "selected = humid + dtr + max_temp +min_temp +avg_temp +precipitation +timeid+green + ['city','total_cases','week_start_date']\n",
    "features_selected= humid + dtr + max_temp +min_temp +avg_temp +precipitation +timeid+green  \n",
    "panel = panel.loc[:,selected]\n",
    "\n",
    " \n",
    " \n"
   ]
  },
  {
   "cell_type": "code",
   "execution_count": 5,
   "metadata": {},
   "outputs": [],
   "source": [
    " \n",
    "def get_data_panel(panel,city_name):\n",
    "    panel_train =  panel.loc[panel.city == city_name].interpolate()  .set_index('week_start_date').copy().drop(['city'],axis = 1).copy()\n",
    "    \n",
    "    panel_test = FeatureTest.loc[FeatureTest.city == city_name].interpolate().set_index('week_start_date').copy().drop('city',axis = 1)\n",
    "    panel_test['total_cases'] = np.nan \n",
    "    train_len = len(panel_test['total_cases'])\n",
    "    panel = pd.concat([panel_train,panel_test],sort = False)\n",
    "    \n",
    "    \n",
    "    panel['green_s']  = panel.loc[:,green[:2]].mean(1)\n",
    "    panel['green_n']  = panel.loc[:,green[2:]].mean(1) \n",
    "    panel['green']  = panel.loc[:,green ].mean(1) \n",
    "\n",
    "    panel  = panel \n",
    "    return panel,train_len\n",
    "\n",
    "panel_sj,len_sj = get_data_panel(panel,'sj')\n",
    "panel_iq,len_iq = get_data_panel(panel,'iq')\n",
    "\n",
    "def min_max(data):\n",
    "     \n",
    "    return (data - data.min())/(data .max()- data.min())\n",
    "\n",
    "\n",
    "\n",
    "from sklearn.ensemble import RandomForestRegressor,RandomForestClassifier\n",
    "\n",
    "drops = ['reanalysis_specific_humidity_g_per_kg']  + green +\\\n",
    "['reanalysis_sat_precip_amt_mm','reanalysis_avg_temp_k','year','weekofyear','total_cases'] \n",
    "\n",
    "def append_shift(left,right,selected,shift,smooth =52):\n",
    "    new_names = []\n",
    "    right = right.copy().apply(lambda x : x.clip(x.quantile(0.05),x.quantile(0.95)),axis = 0)\n",
    "    for name in selected:\n",
    "        new_name = name + '_shift_' +str(shift)+'_smooth_' + str(smooth)\n",
    "        new_names.append(new_name)\n",
    " \n",
    "        left[new_name] = right.rolling(smooth     ).mean().shift(shift).loc[:,name ]\n",
    "    return left\n",
    "\n",
    "def append_diff(left,right,selected,diff,smooth =52):\n",
    "    new_names = []\n",
    "    right = right.copy().apply(lambda x : x.clip(x.quantile(0.05),x.quantile(0.95)),axis = 0)\n",
    "    for name in selected:\n",
    "        new_name = name + '_diff_'  +'_smooth_' + str(smooth)\n",
    "        new_names.append(new_name)\n",
    " \n",
    "        left[new_name] = right.diff(1).rolling(smooth   ).mean().loc[:,name ]\n",
    "    return left\n",
    " \n",
    "def de_season_tri(series):\n",
    "    \n",
    "    target = series.name\n",
    "    series = pd.DataFrame(series.copy())\n",
    "    series[\"season_sin\"] = np.sin(series.index.weekofyear/53*6.2831)\n",
    "    series[\"season_cos\"] = np.cos(series.index.weekofyear/53*6.2831)\n",
    "\n",
    "\n",
    "    X_out = series.drop(target,axis = 1) \n",
    "    X_out  = sm.add_constant(X_out) \n",
    "\n",
    "\n",
    "\n",
    "\n",
    "    train_df = series.dropna()\n",
    "    train_y = train_df  .loc[:,target]\n",
    "    train_y =train_y.clip(train_y.quantile(0.05),train_y.quantile(0.95))\n",
    "    train_X = train_df  .drop(target,axis = 1)\n",
    "    train_X = sm.add_constant(train_X)\n",
    "    model = sm.OLS(train_y,train_X)\n",
    "    res = model.fit()\n",
    "    return  series.loc[:,target] .ravel()/res  .predict(X_out) .ravel() - 1\n",
    "\n",
    "\n",
    "def get_season_tri(series):\n",
    "    \n",
    "    target = series.name\n",
    "    series = pd.DataFrame(series.copy())\n",
    "    series[\"season_sin\"] = np.sin(series.index.weekofyear/53*6.2831)\n",
    "    series[\"season_cos\"] = np.cos(series.index.weekofyear/53*6.2831)\n",
    "\n",
    "\n",
    "    X_out = series.drop(target,axis = 1) \n",
    "    X_out  = sm.add_constant(X_out) \n",
    "\n",
    "\n",
    "\n",
    "\n",
    "    train_df = series.dropna()\n",
    "    train_y = train_df  .loc[:,target]\n",
    "    train_y =train_y.clip(train_y.quantile(0.05),train_y.quantile(0.95))\n",
    "    train_X = train_df  .drop(target,axis = 1)\n",
    "    train_X = sm.add_constant(train_X)\n",
    "    model = sm.OLS(train_y,train_X)\n",
    "    res = model.fit()\n",
    "    return   res  .predict(X_out) .ravel()  \n",
    "\n",
    "\n",
    "\n",
    " \n",
    "\n",
    "panel_sj,len_sj = get_data_panel(panel,'sj')\n",
    " \n",
    "panel_iq,len_iq = get_data_panel(panel,'iq')\n",
    " "
   ]
  },
  {
   "cell_type": "markdown",
   "metadata": {},
   "source": [
    "## Modling Approches\n",
    "     Based on our analysis from EDA, we can learn:\n",
    "         1. The series pattern is seasonaland autoarresive with trend and jump\n",
    "         2. No any indivdual factor shows high correlation for prediction the series other than seasonality\n",
    "         3. Time span is very long, magnitude also changing with time.\n",
    "     Approaches:\n",
    "         1. Predict seasonal adjust series and re-scaled the prediction series\n",
    "         2. Directly predict original series \n",
    "     Model:\n",
    "         1. Random forest with boostrapping \n",
    "         2. Grandient Boost \n",
    "         3. GLM model with parsimonious inputs\n",
    "         4 .LSTM with parsimonious inputs\n",
    "    So there are 8 models in total  X  2 approaches\n",
    "    Finally, we avarage all models for the final output. \n",
    "        \n",
    "     \n",
    "         "
   ]
  },
  {
   "cell_type": "markdown",
   "metadata": {},
   "source": [
    "## Random Forest - Approach 1"
   ]
  },
  {
   "cell_type": "code",
   "execution_count": 6,
   "metadata": {},
   "outputs": [
    {
     "name": "stderr",
     "output_type": "stream",
     "text": [
      "D:\\Anaconda3\\envs\\interview_env\\lib\\site-packages\\numpy\\core\\fromnumeric.py:2495: FutureWarning: Method .ptp is deprecated and will be removed in a future version. Use numpy.ptp instead.\n",
      "  return ptp(axis=axis, out=out, **kwargs)\n"
     ]
    }
   ],
   "source": [
    "panel_sj_selected  = panel_sj.loc[:,['total_cases']]\n",
    "panel_iq_selected  = panel_iq.loc[:,['total_cases']] \n",
    "np.random.seed(10)\n",
    "def data_process_random_forest(panel,panel_candidate ):\n",
    "    \n",
    "    \"\"\"\n",
    "    Make sure it is at least forward filled\n",
    "    \"\"\"\n",
    "    panel = append_shift(panel,panel_candidate,\\\n",
    "          panel_candidate.columns,0,52)\n",
    "    \n",
    "    panel = append_shift(panel,panel_candidate,\\\n",
    "          panel_candidate.columns,0,20)\n",
    "    \n",
    "    panel = append_diff(panel,panel_candidate,\\\n",
    "          panel_candidate.columns,26,26)\n",
    "    \n",
    "    \n",
    "    # de - seasons\n",
    "    de_seasons = panel_candidate.apply(de_season_tri,axis = 0)\n",
    "    new_names = [name +'_ds' for name in de_seasons.columns]\n",
    "    de_seasons.columns = new_names\n",
    "    \n",
    "    \n",
    "    panel = append_shift(panel,de_seasons,\\\n",
    "          de_seasons.columns,0,52)\n",
    "    \n",
    "    panel = append_shift(panel,de_seasons,\\\n",
    "          de_seasons.columns,0,10)\n",
    "    \n",
    "    panel = append_diff(panel,de_seasons,\\\n",
    "          de_seasons.columns,26,30)\n",
    " \n",
    "    return panel .fillna(method = 'ffill')\n",
    "\n",
    "panel_sj_selected =  data_process_random_forest(panel_sj_selected,panel_sj.drop(drops,axis = 1))\n",
    "panel_iq_selected =  data_process_random_forest(panel_iq_selected,panel_iq.drop(drops,axis = 1)) \n",
    "#panel_sj_selected['season'] = get_season_tri(panel_sj_selected.total_cases )\n",
    "#panel_iq_selected['season'] = get_season_tri(panel_iq_selected.total_cases )\n",
    "train_y_sj, train_X_sj =   panel_sj_selected  .iloc[: -len_sj].dropna().loc[:,'total_cases'],\\\n",
    "                            panel_sj_selected .iloc[: -len_sj] .dropna().drop('total_cases',axis = 1)  \n",
    " \n",
    "train_y_iq, train_X_iq =   panel_iq_selected .iloc[60: -len_iq].dropna() .loc[:,'total_cases'],\\\n",
    "                            panel_iq_selected.iloc[60: -len_iq] .dropna() .drop('total_cases',axis = 1)  \n",
    "                         \n",
    "\n",
    "test_X_sj = panel_sj_selected.drop('total_cases',axis = 1)  .iloc[-len_sj: ]\n",
    "test_X_iq = panel_iq_selected.drop('total_cases',axis = 1)  .iloc[-len_iq: ]\n",
    "\n",
    "\n",
    "\n",
    "rf_sj = RandomForestRegressor(n_estimators=200,    max_features='auto',\n",
    "                                         max_depth=4, criterion='mae',   warm_start=True, \\\n",
    "                                )\n",
    "rf_sj.fit( train_X_sj ,train_y_sj )\n",
    "rf_iq = RandomForestRegressor(n_estimators=200, max_features='auto',\n",
    "                                         max_depth=4, criterion='mae',  warm_start=True)\n",
    "\n",
    "rf_iq.fit(train_X_iq  ,train_y_iq )\n",
    "\n",
    "\n",
    "sj_predictions =  pd.Series(np.round(rf_sj . predict( test_X_sj)).astype(int) ) \n",
    "iq_predictions =  pd.Series(np.round(rf_iq .predict(test_X_iq )).astype(int) )\n",
    "\n",
    "\n",
    " \n",
    "\n"
   ]
  },
  {
   "cell_type": "code",
   "execution_count": 7,
   "metadata": {},
   "outputs": [
    {
     "data": {
      "text/plain": [
       "<matplotlib.axes._subplots.AxesSubplot at 0x24c0e3bbcf8>"
      ]
     },
     "execution_count": 7,
     "metadata": {},
     "output_type": "execute_result"
    },
    {
     "data": {
      "image/png": "[encoded data removed]",
      "text/plain": [
       "<matplotlib.figure.Figure at 0x24c0e3bb6a0>"
      ]
     },
     "metadata": {
      "needs_background": "light"
     },
     "output_type": "display_data"
    }
   ],
   "source": [
    "def submission( sj_predictions,iq_predictions):\n",
    "    sj_predictions =  pd.Series(np.round(sj_predictions  ).round().astype(int) )\n",
    "    iq_predictions =  pd.Series(np.round(iq_predictions )  .round().astype(int) )\n",
    "    submission = pd.read_csv(\"./data/submission_format.csv\", index_col=[0, 1, 2])\n",
    "    submission.total_cases =np.concatenate([sj_predictions, iq_predictions])\n",
    "   \n",
    "    submission.to_csv(\"./data/submission_rf.csv\")\n",
    "    return submission\n",
    "    \n",
    "submission(sj_predictions ,iq_predictions).plot()"
   ]
  },
  {
   "cell_type": "markdown",
   "metadata": {},
   "source": [
    "### XGBoost "
   ]
  },
  {
   "cell_type": "code",
   "execution_count": 8,
   "metadata": {},
   "outputs": [
    {
     "name": "stderr",
     "output_type": "stream",
     "text": [
      "D:\\Anaconda3\\envs\\interview_env\\lib\\site-packages\\xgboost\\core.py:587: FutureWarning: Series.base is deprecated and will be removed in a future version\n",
      "  if getattr(data, 'base', None) is not None and \\\n"
     ]
    },
    {
     "data": {
      "text/plain": [
       "<matplotlib.axes._subplots.AxesSubplot at 0x24c10171588>"
      ]
     },
     "execution_count": 8,
     "metadata": {},
     "output_type": "execute_result"
    },
    {
     "data": {
      "image/png": "[encoded data removed]",
      "text/plain": [
       "<matplotlib.figure.Figure at 0x24c10040cf8>"
      ]
     },
     "metadata": {
      "needs_background": "light"
     },
     "output_type": "display_data"
    }
   ],
   "source": [
    "from xgboost import XGBRegressor\n",
    " \n",
    " \n",
    " \n",
    "xgb_sj = XGBRegressor(base_score=0.5, booster='gbtree', colsample_bylevel=1,\n",
    "             colsample_bynode=1, colsample_bytree=1, gamma=1,\n",
    "             importance_type='gain', learning_rate=0.02, max_delta_step=0,\n",
    "             max_depth=2, min_child_weight=2, missing=None,  \n",
    "             n_jobs=4, nthread=None, objective='reg:squarederror',\n",
    "             random_state=1, reg_alpha=0, reg_lambda=1, scale_pos_weight=1,\n",
    "             seed=None, silent=None, subsample=1, verbosity=1)\n",
    "\n",
    "\n",
    "xgb_sj.fit( train_X_sj ,train_y_sj.clip(0,250) )\n",
    "\n",
    "\n",
    "xgb_iq = XGBRegressor(base_score=0.5, booster='gbtree', colsample_bylevel=1,\n",
    "             colsample_bynode=1, colsample_bytree=1, gamma=1,\n",
    "             importance_type='gain', learning_rate=0.02, max_delta_step=0,\n",
    "             max_depth=2, min_child_weight=2, missing=None,  \n",
    "             n_jobs=4, nthread=None, objective='reg:squarederror',\n",
    "             random_state=1, reg_alpha=0, reg_lambda=1, scale_pos_weight=1,\n",
    "             seed=None, silent=None, subsample=1, verbosity=1)\n",
    "\n",
    "xgb_iq.fit(train_X_iq  ,train_y_iq.clip(0,40))\n",
    "\n",
    "\n",
    "sj_predictions =  pd.Series(np.round(xgb_sj . predict( test_X_sj)).astype(int) ) \n",
    "iq_predictions =  pd.Series(np.round(xgb_iq .predict(test_X_iq )).astype(int) ) \n",
    "\n",
    " \n",
    "def submission( sj_predictions,iq_predictions):\n",
    "    sj_predictions =  pd.Series(np.round(sj_predictions  ).round().astype(int) )\n",
    "    iq_predictions =  pd.Series(np.round(iq_predictions )  .round().astype(int) )\n",
    "    submission = pd.read_csv(\"./data/submission_format.csv\", index_col=[0, 1, 2])\n",
    "    submission.total_cases =np.concatenate([sj_predictions, iq_predictions])\n",
    "   \n",
    "    submission.to_csv(\"./data/submission_xgb.csv\")\n",
    "    return submission\n",
    "    \n",
    "submission(sj_predictions ,iq_predictions).plot() "
   ]
  },
  {
   "cell_type": "markdown",
   "metadata": {},
   "source": [
    "## GLM:\n",
    "    1. Using the feature selection from previous model, we can build a simpler linear model using XGboost\n",
    "    2. What's the feature size? Though we have 936 observations, but they are not really independent. With seasonality, the degree of       freedom is even smaller(As a naive rule: 900 / 12(season) / 10 = 7   )\n",
    "    3. Seasonality and constant need to be expressed explicityly "
   ]
  },
  {
   "cell_type": "markdown",
   "metadata": {},
   "source": [
    "###  Feature importances for SJ (Top 50)"
   ]
  },
  {
   "cell_type": "code",
   "execution_count": 9,
   "metadata": {},
   "outputs": [],
   "source": [
    "rf_importance_sj = pd.Series(rf_sj.feature_importances_,index = train_X_sj.columns).sort_values(ascending = True).iloc[:50]\n",
    "xgb_importance_sj = pd.Series(xgb_sj.feature_importances_,index = train_X_sj.columns).sort_values(ascending = True).iloc[:50]\n",
    "selected = xgb_importance_sj .index.intersection(rf_importance_sj .index)\n",
    "selected_sj =selected \n",
    "rf_importance_iq = pd.Series(rf_iq.feature_importances_,index = train_X_iq.columns).sort_values(ascending = True).iloc[:50]\n",
    "xgb_importance_iq = pd.Series(xgb_iq.feature_importances_,index = train_X_iq.columns).sort_values(ascending = True).iloc[:50]\n",
    "\n",
    "selected_iq =  xgb_importance_iq .index.intersection(rf_importance_iq .index) "
   ]
  },
  {
   "cell_type": "code",
   "execution_count": 10,
   "metadata": {},
   "outputs": [
    {
     "name": "stderr",
     "output_type": "stream",
     "text": [
      "D:\\Anaconda3\\envs\\interview_env\\lib\\site-packages\\numpy\\core\\fromnumeric.py:2495: FutureWarning: Method .ptp is deprecated and will be removed in a future version. Use numpy.ptp instead.\n",
      "  return ptp(axis=axis, out=out, **kwargs)\n"
     ]
    }
   ],
   "source": [
    "import statsmodels.api as sm\n",
    "def normalize(df, how ):\n",
    "    if how == 'z':\n",
    "        return (df - df.mean())/(df.std())\n",
    "    if how == 'r':\n",
    "        return (df - df.min())/(df.max() - df.min())\n",
    "    \n",
    "    \n",
    "    \n",
    "train_y_sj, train_X_sj =   panel_sj_selected  .iloc[: -len_sj].dropna().loc[:,'total_cases'],\\\n",
    "                             normalize(panel_sj_selected,'z' ).iloc[: -len_sj] .dropna().loc[:,selected_sj] \n",
    " \n",
    "train_y_iq, train_X_iq =   panel_iq_selected .iloc[60: -len_iq].dropna() .loc[:,'total_cases'],\\\n",
    "                             normalize(panel_iq_selected,'z').iloc[60: -len_iq] .dropna().loc[:,selected_iq] \n",
    "                         \n",
    "train_X_sj  = sm.add_constant(train_X_sj )\n",
    "train_X_iq  = sm.add_constant(train_X_iq )\n",
    "\n",
    "\n",
    "test_X_sj = panel_sj_selected.loc[:,selected_sj ]  .iloc[-len_sj: ]\n",
    "test_X_iq = panel_iq_selected.loc[:,selected_iq  ]  .iloc[-len_iq: ]\n",
    "\n",
    "\n",
    "test_X_sj  = sm.add_constant(test_X_sj )\n",
    "test_X_iq  = sm.add_constant(test_X_iq )"
   ]
  },
  {
   "cell_type": "code",
   "execution_count": 16,
   "metadata": {},
   "outputs": [
    {
     "data": {
      "text/plain": [
       "<matplotlib.axes._subplots.AxesSubplot at 0x24c10927c88>"
      ]
     },
     "execution_count": 16,
     "metadata": {},
     "output_type": "execute_result"
    },
    {
     "data": {
      "image/png": "[encoded data removed]",
      "text/plain": [
       "<matplotlib.figure.Figure at 0x24c10927208>"
      ]
     },
     "metadata": {
      "needs_background": "light"
     },
     "output_type": "display_data"
    }
   ],
   "source": [
    "glm_sj = XGBRegressor(base_score=0.5, booster='gblinear', colsample_bytree = 0.3,subsample = 0.5,\\\n",
    "               learning_rate=0.02, \n",
    "                  \n",
    "               objective='count:poisson',\n",
    "               reg_lambda=3, scale_pos_weight=1)\n",
    "\n",
    "\n",
    "glm_sj.fit( train_X_sj ,train_y_sj.clip(0,250) )\n",
    "\n",
    "\n",
    "glm_iq = XGBRegressor(   booster='gblinear',  colsample_bytree = 0.3,subsample = 0.5,\\\n",
    "            learning_rate=0.02,  \n",
    "            \n",
    "             n_jobs=4, nthread=None, objective='count:poisson',\n",
    "            reg_lambda=10 )\n",
    "\n",
    "glm_iq.fit(train_X_iq  ,train_y_iq.clip(0,40))\n",
    "\n",
    "\n",
    "sj_predictions =  pd.Series(np.round(glm_sj . predict( test_X_sj)).astype(int) ) \n",
    "iq_predictions =  pd.Series(np.round(glm_iq .predict(test_X_iq )).astype(int) ) \n",
    "\n",
    " \n",
    "def submission( sj_predictions,iq_predictions):\n",
    "    sj_predictions =  pd.Series(np.round(sj_predictions  ).round().astype(int) )\n",
    "    iq_predictions =  pd.Series(np.round(iq_predictions )  .round().astype(int) )\n",
    "    submission = pd.read_csv(\"./data/submission_format.csv\", index_col=[0, 1, 2])\n",
    "    submission.total_cases =np.concatenate([sj_predictions, iq_predictions])\n",
    "   \n",
    "    submission.to_csv(\"./data/submission_glm.csv\")\n",
    "    return submission\n",
    "    \n",
    "submission(sj_predictions ,iq_predictions).plot() "
   ]
  },
  {
   "cell_type": "markdown",
   "metadata": {},
   "source": [
    "## Now, avaraging these three models"
   ]
  },
  {
   "cell_type": "code",
   "execution_count": 12,
   "metadata": {},
   "outputs": [],
   "source": [
    "glm_submissions = pd.read_csv(\"./data/submission_glm.csv\", index_col=[0, 1, 2]) \n",
    "rf_submissions = pd.read_csv(\"./data/submission_rf.csv\", index_col=[0, 1, 2])\n",
    "xgb_submissions = pd.read_csv(\"./data/submission_xgb.csv\", index_col=[0, 1, 2])\n",
    "avg_submissions  = np.round(( rf_submissions +xgb_submissions)/2).astype(int)\n",
    "avg_submissions.to_csv(\"./data/submission_avg.csv\")"
   ]
  }
 ],
 "metadata": {
  "kernelspec": {
   "display_name": "Python 3",
   "language": "python",
   "name": "python3"
  },
  "language_info": {
   "codemirror_mode": {
    "name": "ipython",
    "version": 3
   },
   "file_extension": ".py",
   "mimetype": "text/x-python",
   "name": "python",
   "nbconvert_exporter": "python",
   "pygments_lexer": "ipython3",
   "version": "3.6.10"
  }
 },
 "nbformat": 4,
 "nbformat_minor": 2
}
